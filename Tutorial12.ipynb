{
 "cells": [
  {
   "cell_type": "markdown",
   "source": [
    "# FOREX DATA\r\n",
    "[1 - Code](https://stackoverflow.com/questions/21483959/how-can-get-usdjpycurrency-rates-with-pandas-and-yahoo-finance)"
   ],
   "metadata": {}
  },
  {
   "cell_type": "code",
   "execution_count": 1,
   "source": [
    "# get fx rates\r\n",
    "# https://finance.yahoo.com/currencies\r\n",
    "# example EUR/USD = EURUSD%3DX?p=EURUSD%3DX\r\n",
    "import pandas as pd\r\n",
    "import pandas_datareader as dr\r\n",
    "    \r\n",
    "# change date range here\r\n",
    "start_date = '2021-02-26'\r\n",
    "end_date = '2021-03-01'\r\n",
    "    \r\n",
    "# retrieve market data of current ticker symbol\r\n",
    "print('This is the table with HLOC, Volume, Adj Close prices')\r\n",
    "eurusd = dr.data.DataReader('EURUSD%3DX', data_source='yahoo', start=start_date, end=end_date)\r\n",
    "print(eurusd)\r\n",
    "    \r\n",
    "# just get latest adjusted close for further use\r\n",
    "print('This is the Adj Close prices only')\r\n",
    "print(eurusd['Adj Close'])"
   ],
   "outputs": [
    {
     "output_type": "stream",
     "name": "stdout",
     "text": [
      "This is the table with HLOC, Volume, Adj Close prices\n",
      "                High       Low      Open     Close  Volume  Adj Close\n",
      "Date                                                                 \n",
      "2021-02-26  1.218249  1.209175  1.216012  1.216042       0   1.216042\n",
      "2021-03-01  1.210156  1.202993  1.209090  1.208956       0   1.208956\n",
      "2021-03-02  1.208036  1.199400  1.204906  1.205110       0   1.205110\n",
      "This is the Adj Close prices only\n",
      "Date\n",
      "2021-02-26    1.216042\n",
      "2021-03-01    1.208956\n",
      "2021-03-02    1.205110\n",
      "Name: Adj Close, dtype: float64\n"
     ]
    }
   ],
   "metadata": {}
  }
 ],
 "metadata": {
  "orig_nbformat": 4,
  "language_info": {
   "name": "python",
   "version": "3.7.8",
   "mimetype": "text/x-python",
   "codemirror_mode": {
    "name": "ipython",
    "version": 3
   },
   "pygments_lexer": "ipython3",
   "nbconvert_exporter": "python",
   "file_extension": ".py"
  },
  "kernelspec": {
   "name": "python3",
   "display_name": "Python 3.7.8 64-bit"
  },
  "interpreter": {
   "hash": "57baa5815c940fdaff4d14510622de9616cae602444507ba5d0b6727c008cbd6"
  }
 },
 "nbformat": 4,
 "nbformat_minor": 2
}