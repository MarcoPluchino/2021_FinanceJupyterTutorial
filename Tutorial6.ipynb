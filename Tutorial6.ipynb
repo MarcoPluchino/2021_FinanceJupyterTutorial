{
    "cells": [
        {
            "cell_type": "markdown",
            "metadata": {},
            "source": [
                "# Montecarlo (Ottimizzazione Portafoglio)\n",
                "[1 Portfolio Optimization Using Monte Carlo Simulation](https://blog.quantinsti.com/portfolio-optimization-maximum-return-risk-ratio-python/)"
            ]
        },
        {
            "cell_type": "code",
            "execution_count": 11,
            "metadata": {},
            "outputs": [],
            "source": [
                "#Import relevant libraries\n",
                "import pandas as pd\n",
                "import numpy as np\n",
                "import pandas_datareader.data as web\n",
                "import matplotlib.pyplot as plt"
            ]
        },
        {
            "cell_type": "code",
            "execution_count": 12,
            "metadata": {},
            "outputs": [],
            "source": [
                "#Fetch data from yahoo and save under DataFrame named 'data'\n",
                "stock = ['BAC', 'GS', 'JPM', 'MS']\n",
                "data = web.DataReader(stock,data_source=\"yahoo\",start='12/01/2017',end='12/31/2017')['Adj Close']"
            ]
        },
        {
            "cell_type": "code",
            "execution_count": 13,
            "metadata": {},
            "outputs": [
                {
                    "name": "stdout",
                    "output_type": "stream",
                    "text": [
                        "Symbols       BAC      GS    JPM     MS\n",
                        "Date                                   \n",
                        "2017-12-29  26.95  234.90  94.86  43.85\n",
                        "2017-12-28  27.20  236.50  95.62  44.00\n",
                        "2017-12-27  27.14  236.00  95.11  43.94\n",
                        "2017-12-26  27.19  237.63  94.93  43.85\n",
                        "2017-12-22  27.28  238.78  95.31  44.06\n",
                        "2017-12-21  27.22  240.66  95.65  44.20\n",
                        "2017-12-20  26.91  235.29  94.15  43.89\n",
                        "2017-12-19  26.89  236.49  94.48  44.24\n",
                        "2017-12-18  26.91  239.75  94.88  44.50\n",
                        "2017-12-15  26.51  237.12  94.15  44.38\n",
                        "2017-12-14  26.23  235.56  92.84  44.00\n",
                        "2017-12-13  26.33  235.64  93.59  44.45\n",
                        "2017-12-12  26.77  237.59  94.78  45.01\n",
                        "2017-12-11  26.42  230.63  93.69  44.10\n",
                        "2017-12-08  26.52  230.83  93.97  44.20\n",
                        "2017-12-07  26.27  229.18  92.80  43.75\n",
                        "2017-12-06  26.15  226.78  93.08  43.20\n",
                        "2017-12-05  26.41  228.97  93.78  43.47\n",
                        "2017-12-04  26.53  231.11  94.87  44.03\n",
                        "2017-12-01  25.65  229.54  92.95  43.42\n"
                    ]
                }
            ],
            "source": [
                "#Arrange the data in ascending order\n",
                "data=data.iloc[::-1]\n",
                "print (data.round(2))"
            ]
        },
        {
            "cell_type": "code",
            "execution_count": 14,
            "metadata": {},
            "outputs": [
                {
                    "name": "stdout",
                    "output_type": "stream",
                    "text": [
                        "Symbols      BAC    GS   JPM    MS\n",
                        "Date                              \n",
                        "2017-12-29   NaN   NaN   NaN   NaN\n",
                        "2017-12-28  0.95  0.68  0.79  0.34\n",
                        "2017-12-27 -0.23 -0.21 -0.53 -0.15\n",
                        "2017-12-26  0.17  0.69 -0.19 -0.19\n",
                        "2017-12-22  0.34  0.49  0.40  0.48\n",
                        "2017-12-21 -0.20  0.79  0.35  0.30\n",
                        "2017-12-20 -1.14 -2.23 -1.57 -0.70\n",
                        "2017-12-19 -0.10  0.51  0.35  0.80\n",
                        "2017-12-18  0.10  1.38  0.42  0.59\n",
                        "2017-12-15 -1.49 -1.10 -0.77 -0.26\n",
                        "2017-12-14 -1.07 -0.66 -1.39 -0.87\n",
                        "2017-12-13  0.38  0.03  0.81  1.03\n",
                        "2017-12-12  1.66  0.83  1.27  1.26\n",
                        "2017-12-11 -1.30 -2.93 -1.15 -2.01\n",
                        "2017-12-08  0.38  0.09  0.29  0.23\n",
                        "2017-12-07 -0.93 -0.72 -1.24 -1.02\n",
                        "2017-12-06 -0.49 -1.05  0.30 -1.26\n",
                        "2017-12-05  1.01  0.97  0.75  0.62\n",
                        "2017-12-04  0.45  0.93  1.16  1.29\n",
                        "2017-12-01 -3.30 -0.68 -2.02 -1.39\n"
                    ]
                }
            ],
            "source": [
                "#Compute stock returns and print the returns in percentage format\n",
                "stock_ret = data.pct_change()\n",
                "print (stock_ret.round(4)*100)"
            ]
        },
        {
            "cell_type": "code",
            "execution_count": 15,
            "metadata": {},
            "outputs": [
                {
                    "name": "stdout",
                    "output_type": "stream",
                    "text": [
                        "Symbols\n",
                        "BAC   -0.002531\n",
                        "GS    -0.001151\n",
                        "JPM   -0.001022\n",
                        "MS    -0.000482\n",
                        "dtype: float64\n",
                        "Symbols       BAC        GS       JPM        MS\n",
                        "Symbols                                        \n",
                        "BAC      0.000125  0.000085  0.000099  0.000082\n",
                        "GS       0.000085  0.000131  0.000084  0.000088\n",
                        "JPM      0.000099  0.000084  0.000098  0.000078\n",
                        "MS       0.000082  0.000088  0.000078  0.000089\n"
                    ]
                }
            ],
            "source": [
                "#Calculate mean returns and covariances of all four the stocks\n",
                "mean_returns = stock_ret.mean()\n",
                "cov_matrix = stock_ret.cov()\n",
                "print (mean_returns)\n",
                "print (cov_matrix)"
            ]
        },
        {
            "cell_type": "code",
            "execution_count": 16,
            "metadata": {},
            "outputs": [],
            "source": [
                "#Set the number of iterations to 10000 and define an array to hold the simulation results; initially set to all zeros\n",
                "num_iterations = 10000\n",
                "simulation_res = np.zeros((4+len(stock)-1,num_iterations))"
            ]
        },
        {
            "cell_type": "code",
            "execution_count": 17,
            "metadata": {},
            "outputs": [],
            "source": [
                "for i in range(num_iterations):\n",
                "    #Select random weights and normalize to set the sum to 1\n",
                "    weights = np.array(np.random.random(4))\n",
                "    weights /= np.sum(weights)\n",
                "#Calculate the return and standard deviation for every step\n",
                "    portfolio_return = np.sum(mean_returns * weights)\n",
                "    portfolio_std_dev = np.sqrt(np.dot(weights.T,np.dot(cov_matrix, weights)))\n",
                "#Store all the results in a defined array\n",
                "    simulation_res[0,i] = portfolio_return\n",
                "    simulation_res[1,i] = portfolio_std_dev\n",
                "#Calculate Sharpe ratio and store it in the array\n",
                "    simulation_res[2,i] = simulation_res[0,i] / simulation_res[1,i]\n",
                "#Save the weights in the array\n",
                "    for j in range(len(weights)):\n",
                "            simulation_res[j+3,i] = weights[j]\n"
            ]
        },
        {
            "cell_type": "code",
            "execution_count": 18,
            "metadata": {},
            "outputs": [
                {
                    "name": "stdout",
                    "output_type": "stream",
                    "text": [
                        "        ret     stdev    sharpe       BAC        GS       JPM        MS\n",
                        "0 -0.000829  0.009325 -0.088911  0.011470  0.146876  0.417697  0.423957\n",
                        "1 -0.001064  0.009614 -0.110626  0.042164  0.275986  0.575426  0.106423\n",
                        "2 -0.001790  0.010104 -0.177120  0.533801  0.067310  0.312561  0.086327\n",
                        "3 -0.001149  0.009550 -0.120351  0.156684  0.276424  0.299060  0.267833\n",
                        "4 -0.001381  0.010044 -0.137501  0.233283  0.527830  0.125939  0.112947\n",
                        "           ret     stdev    sharpe       BAC        GS       JPM        MS\n",
                        "9995 -0.001055  0.009625 -0.109629  0.062064  0.354225  0.387375  0.196335\n",
                        "9996 -0.001187  0.010156 -0.116869  0.140266  0.598492  0.031750  0.229492\n",
                        "9997 -0.001240  0.009515 -0.130289  0.240694  0.132035  0.326315  0.300956\n",
                        "9998 -0.001131  0.009759 -0.115844  0.137061  0.429429  0.149111  0.284399\n",
                        "9999 -0.001380  0.009626 -0.143315  0.379577  0.175344  0.004766  0.440313\n"
                    ]
                }
            ],
            "source": [
                "sim_frame = pd.DataFrame(simulation_res.T,columns=['ret','stdev','sharpe',stock[0],stock[1],stock[2],stock[3]])\n",
                "print (sim_frame.head())\n",
                "print (sim_frame.tail())"
            ]
        },
        {
            "cell_type": "code",
            "execution_count": 19,
            "metadata": {},
            "outputs": [],
            "source": [
                "#Spot the position of the portfolio with highest Sharpe Ratio\n",
                "max_sharpe = sim_frame.iloc[sim_frame['sharpe'].idxmax()]"
            ]
        },
        {
            "cell_type": "code",
            "execution_count": 20,
            "metadata": {},
            "outputs": [
                {
                    "name": "stdout",
                    "output_type": "stream",
                    "text": [
                        "The portfolio for max Sharpe Ratio:\n",
                        " ret      -0.000584\n",
                        "stdev     0.009440\n",
                        "sharpe   -0.061866\n",
                        "BAC       0.018740\n",
                        "GS        0.092929\n",
                        "JPM       0.003181\n",
                        "MS        0.885150\n",
                        "Name: 5218, dtype: float64\n",
                        "The portfolio for min risk:\n",
                        " ret      -0.000698\n",
                        "stdev     0.009240\n",
                        "sharpe   -0.075516\n",
                        "BAC       0.008597\n",
                        "GS        0.013528\n",
                        "JPM       0.350691\n",
                        "MS        0.627184\n",
                        "Name: 2770, dtype: float64\n"
                    ]
                }
            ],
            "source": [
                "#Spot the position of the portfolio with minimum Standard Deviation\n",
                "min_std = sim_frame.iloc[sim_frame['stdev'].idxmin()]\n",
                "print (\"The portfolio for max Sharpe Ratio:\\n\", max_sharpe)\n",
                "print (\"The portfolio for min risk:\\n\", min_std)"
            ]
        },
        {
            "cell_type": "code",
            "execution_count": 21,
            "metadata": {},
            "outputs": [
                {
                    "data": {
                        "image/png": "[encoded data removed]",
                        "text/plain": [
                            "<Figure size 432x288 with 1 Axes>"
                        ]
                    },
                    "metadata": {
                        "needs_background": "light"
                    },
                    "output_type": "display_data"
                }
            ],
            "source": [
                "#Create a scatter plot coloured by various Sharpe Ratios with standard deviation on the x-axis and returns on the y-axis\n",
                "plt.scatter(sim_frame.stdev,sim_frame.ret,c=sim_frame.sharpe,cmap='RdYlBu')\n",
                "plt.xlabel('Standard Deviation')\n",
                "plt.ylabel('Returns')\n",
                "plt.ylim(-0.003,.003)\n",
                "plt.xlim(-0.0075,0.012)\n",
                "#Plot a red star to highlight position of the portfolio with highest Sharpe Ratio\n",
                "plt.scatter(max_sharpe[1],max_sharpe[0],marker=(5,1,0),color='r',s=600)\n",
                "#Plot a blue star to highlight position of the portfolio with minimum Variance\n",
                "plt.scatter(min_std[1],min_std[0],marker=(5,1,0),color='b',s=600)\n",
                "plt.show()"
            ]
        }
    ],
    "metadata": {
        "interpreter": {
            "hash": "57baa5815c940fdaff4d14510622de9616cae602444507ba5d0b6727c008cbd6"
        },
        "kernelspec": {
            "display_name": "Python 3.7.8 64-bit",
            "name": "python3"
        },
        "language_info": {
            "codemirror_mode": {
                "name": "ipython",
                "version": 3
            },
            "file_extension": ".py",
            "mimetype": "text/x-python",
            "name": "python",
            "nbconvert_exporter": "python",
            "pygments_lexer": "ipython3",
            "version": "3.10.4"
        },
        "orig_nbformat": 4
    },
    "nbformat": 4,
    "nbformat_minor": 2
}
