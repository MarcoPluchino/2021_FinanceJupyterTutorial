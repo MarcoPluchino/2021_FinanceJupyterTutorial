{
    "cells": [
        {
            "cell_type": "code",
            "execution_count": 1,
            "source": [
                "# https://www.youtube.com/watch?v=7wAQCwdvqqo&list=PLlbbWgBRF8EfO4WX13yEWlDUxkHsGPRdV&index=1&t=838s\r\n",
                "import yfinance as yf\r\n",
                "import imp\r\n",
                "symbol = yf.Ticker(\"BTC-EUR\") #symbol\r\n",
                "info = symbol.info #info\r\n",
                "a = imp.find_module(\"yfinance\")\r\n",
                "hist = symbol.history(period='max') #hist\r\n",
                "institutional_holders = symbol.institutional_holders \r\n",
                "institutional_holders"
            ],
            "outputs": [
                {
                    "output_type": "execute_result",
                    "data": {
                        "text/plain": [
                            "                              0            1\n",
                            "0                    Market Cap      771.52B\n",
                            "1            Circulating Supply       18.80M\n",
                            "2                    Max Supply          NaN\n",
                            "3                        Volume  28126287872\n",
                            "4                 Volume (24hr)       28.13B\n",
                            "5  Volume (24hr) All Currencies       28.13B"
                        ],
                        "text/html": [
                            "<div>\n",
                            "<style scoped>\n",
                            "    .dataframe tbody tr th:only-of-type {\n",
                            "        vertical-align: middle;\n",
                            "    }\n",
                            "\n",
                            "    .dataframe tbody tr th {\n",
                            "        vertical-align: top;\n",
                            "    }\n",
                            "\n",
                            "    .dataframe thead th {\n",
                            "        text-align: right;\n",
                            "    }\n",
                            "</style>\n",
                            "<table border=\"1\" class=\"dataframe\">\n",
                            "  <thead>\n",
                            "    <tr style=\"text-align: right;\">\n",
                            "      <th></th>\n",
                            "      <th>0</th>\n",
                            "      <th>1</th>\n",
                            "    </tr>\n",
                            "  </thead>\n",
                            "  <tbody>\n",
                            "    <tr>\n",
                            "      <th>0</th>\n",
                            "      <td>Market Cap</td>\n",
                            "      <td>771.52B</td>\n",
                            "    </tr>\n",
                            "    <tr>\n",
                            "      <th>1</th>\n",
                            "      <td>Circulating Supply</td>\n",
                            "      <td>18.80M</td>\n",
                            "    </tr>\n",
                            "    <tr>\n",
                            "      <th>2</th>\n",
                            "      <td>Max Supply</td>\n",
                            "      <td>NaN</td>\n",
                            "    </tr>\n",
                            "    <tr>\n",
                            "      <th>3</th>\n",
                            "      <td>Volume</td>\n",
                            "      <td>28126287872</td>\n",
                            "    </tr>\n",
                            "    <tr>\n",
                            "      <th>4</th>\n",
                            "      <td>Volume (24hr)</td>\n",
                            "      <td>28.13B</td>\n",
                            "    </tr>\n",
                            "    <tr>\n",
                            "      <th>5</th>\n",
                            "      <td>Volume (24hr) All Currencies</td>\n",
                            "      <td>28.13B</td>\n",
                            "    </tr>\n",
                            "  </tbody>\n",
                            "</table>\n",
                            "</div>"
                        ]
                    },
                    "metadata": {},
                    "execution_count": 1
                }
            ],
            "metadata": {}
        }
    ],
    "metadata": {
        "orig_nbformat": 4,
        "language_info": {
            "name": "python",
            "version": "3.7.8",
            "mimetype": "text/x-python",
            "codemirror_mode": {
                "name": "ipython",
                "version": 3
            },
            "pygments_lexer": "ipython3",
            "nbconvert_exporter": "python",
            "file_extension": ".py"
        },
        "kernelspec": {
            "name": "python3",
            "display_name": "Python 3.7.8 64-bit"
        },
        "interpreter": {
            "hash": "57baa5815c940fdaff4d14510622de9616cae602444507ba5d0b6727c008cbd6"
        }
    },
    "nbformat": 4,
    "nbformat_minor": 2
}