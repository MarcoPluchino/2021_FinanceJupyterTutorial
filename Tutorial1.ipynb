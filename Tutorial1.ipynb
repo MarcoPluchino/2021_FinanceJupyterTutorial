{
    "cells": [
        {
            "cell_type": "code",
            "execution_count": null,
            "metadata": {},
            "outputs": [
                {
                    "data": {
                        "text/html": [
                            "<div>\n",
                            "<style scoped>\n",
                            "    .dataframe tbody tr th:only-of-type {\n",
                            "        vertical-align: middle;\n",
                            "    }\n",
                            "\n",
                            "    .dataframe tbody tr th {\n",
                            "        vertical-align: top;\n",
                            "    }\n",
                            "\n",
                            "    .dataframe thead th {\n",
                            "        text-align: right;\n",
                            "    }\n",
                            "</style>\n",
                            "<table border=\"1\" class=\"dataframe\">\n",
                            "  <thead>\n",
                            "    <tr style=\"text-align: right;\">\n",
                            "      <th></th>\n",
                            "      <th>0</th>\n",
                            "      <th>1</th>\n",
                            "    </tr>\n",
                            "  </thead>\n",
                            "  <tbody>\n",
                            "    <tr>\n",
                            "      <th>0</th>\n",
                            "      <td>Market Cap</td>\n",
                            "      <td>806.485B</td>\n",
                            "    </tr>\n",
                            "    <tr>\n",
                            "      <th>1</th>\n",
                            "      <td>Circulating Supply</td>\n",
                            "      <td>19.00M</td>\n",
                            "    </tr>\n",
                            "    <tr>\n",
                            "      <th>2</th>\n",
                            "      <td>Max Supply</td>\n",
                            "      <td>NaN</td>\n",
                            "    </tr>\n",
                            "    <tr>\n",
                            "      <th>3</th>\n",
                            "      <td>Volume</td>\n",
                            "      <td>25954117632</td>\n",
                            "    </tr>\n",
                            "    <tr>\n",
                            "      <th>4</th>\n",
                            "      <td>Volume (24hr)</td>\n",
                            "      <td>25.95B</td>\n",
                            "    </tr>\n",
                            "    <tr>\n",
                            "      <th>5</th>\n",
                            "      <td>Volume (24hr) All Currencies</td>\n",
                            "      <td>25.95B</td>\n",
                            "    </tr>\n",
                            "  </tbody>\n",
                            "</table>\n",
                            "</div>"
                        ],
                        "text/plain": [
                            "                              0            1\n",
                            "0                    Market Cap     806.485B\n",
                            "1            Circulating Supply       19.00M\n",
                            "2                    Max Supply          NaN\n",
                            "3                        Volume  25954117632\n",
                            "4                 Volume (24hr)       25.95B\n",
                            "5  Volume (24hr) All Currencies       25.95B"
                        ]
                    },
                    "execution_count": 6,
                    "metadata": {},
                    "output_type": "execute_result"
                }
            ],
            "source": [
                "# https://www.youtube.com/watch?v=7wAQCwdvqqo&list=PLlbbWgBRF8EfO4WX13yEWlDUxkHsGPRdV&index=1&t=838s\n",
                "import yfinance as yf\n",
                "import imp\n",
                "symbol = yf.Ticker(\"BTC-EUR\") #symbol\n",
                "info = symbol.info #info\n",
                "a = imp.find_module(\"yfinance\")\n",
                "hist = symbol.history(period='max') #hist\n",
                "institutional_holders = symbol.institutional_holders \n",
                "institutional_holders"
            ]
        },
        {
            "cell_type": "code",
            "execution_count": 18,
            "metadata": {},
            "outputs": [
                {
                    "name": "stdout",
                    "output_type": "stream",
                    "text": [
                        "^C\n"
                    ]
                }
            ],
            "source": [
                "!python -m pip install nbformat"
            ]
        },
        {
            "cell_type": "code",
            "execution_count": 19,
            "metadata": {},
            "outputs": [
                {
                    "name": "stdout",
                    "output_type": "stream",
                    "text": [
                        "C:\\Users\\MarcoP\\AppData\\Local\\Programs\\Python\\Python310\\python.exe\n",
                        "Collecting bokeh\n",
                        "  Downloading bokeh-2.4.2-py3-none-any.whl (18.5 MB)\n",
                        "     --------------------------------------- 18.5/18.5 MB 48.3 kB/s eta 0:00:00\n",
                        "Requirement already satisfied: pillow>=7.1.0 in c:\\users\\marcop\\appdata\\local\\programs\\python\\python310\\lib\\site-packages (from bokeh) (9.0.1)\n",
                        "Requirement already satisfied: packaging>=16.8 in c:\\users\\marcop\\appdata\\local\\programs\\python\\python310\\lib\\site-packages (from bokeh) (21.3)\n",
                        "Collecting Jinja2>=2.9\n",
                        "  Downloading Jinja2-3.1.1-py3-none-any.whl (132 kB)\n",
                        "     ------------------------------------- 132.6/132.6 KB 58.9 kB/s eta 0:00:00\n",
                        "Collecting PyYAML>=3.10\n",
                        "  Downloading PyYAML-6.0-cp310-cp310-win_amd64.whl (151 kB)\n",
                        "     ------------------------------------- 151.7/151.7 KB 45.0 kB/s eta 0:00:00\n",
                        "Requirement already satisfied: tornado>=5.1 in c:\\users\\marcop\\appdata\\roaming\\python\\python310\\site-packages (from bokeh) (6.1)\n",
                        "Collecting typing-extensions>=3.10.0\n",
                        "  Downloading typing_extensions-4.1.1-py3-none-any.whl (26 kB)\n",
                        "Requirement already satisfied: numpy>=1.11.3 in c:\\users\\marcop\\appdata\\local\\programs\\python\\python310\\lib\\site-packages (from bokeh) (1.22.3)\n",
                        "Collecting MarkupSafe>=2.0\n",
                        "  Downloading MarkupSafe-2.1.1-cp310-cp310-win_amd64.whl (17 kB)\n",
                        "Requirement already satisfied: pyparsing!=3.0.5,>=2.0.2 in c:\\users\\marcop\\appdata\\local\\programs\\python\\python310\\lib\\site-packages (from packaging>=16.8->bokeh) (3.0.7)\n",
                        "Installing collected packages: typing-extensions, PyYAML, MarkupSafe, Jinja2, bokeh\n",
                        "Successfully installed Jinja2-3.1.1 MarkupSafe-2.1.1 PyYAML-6.0 bokeh-2.4.2 typing-extensions-4.1.1\n"
                    ]
                },
                {
                    "name": "stderr",
                    "output_type": "stream",
                    "text": [
                        "ERROR: Could not install packages due to an OSError: [WinError 32] Impossibile accedere al file. Il file è utilizzato da un altro processo: 'C:\\\\Users\\\\MarcoP\\\\AppData\\\\Local\\\\Programs\\\\Python\\\\Python310\\\\Lib\\\\site-packages\\\\bokeh\\\\core\\\\property\\\\visual.py'\n",
                        "Consider using the `--user` option or check the permissions.\n",
                        "\n"
                    ]
                },
                {
                    "name": "stdout",
                    "output_type": "stream",
                    "text": [
                        "Collecting bokeh\n",
                        "  Downloading bokeh-2.4.2-py3-none-any.whl (18.5 MB)\n",
                        "     --------------------------------------- 18.5/18.5 MB 38.3 kB/s eta 0:00:00\n",
                        "Collecting Jinja2>=2.9\n",
                        "  Using cached Jinja2-3.1.1-py3-none-any.whl (132 kB)\n",
                        "Collecting PyYAML>=3.10\n",
                        "  Using cached PyYAML-6.0-cp310-cp310-win_amd64.whl (151 kB)\n",
                        "Requirement already satisfied: pillow>=7.1.0 in c:\\users\\marcop\\appdata\\local\\programs\\python\\python310\\lib\\site-packages (from bokeh) (9.0.1)\n",
                        "Requirement already satisfied: tornado>=5.1 in c:\\users\\marcop\\appdata\\roaming\\python\\python310\\site-packages (from bokeh) (6.1)\n",
                        "Requirement already satisfied: numpy>=1.11.3 in c:\\users\\marcop\\appdata\\local\\programs\\python\\python310\\lib\\site-packages (from bokeh) (1.22.3)\n",
                        "Requirement already satisfied: packaging>=16.8 in c:\\users\\marcop\\appdata\\local\\programs\\python\\python310\\lib\\site-packages (from bokeh) (21.3)\n",
                        "Collecting typing-extensions>=3.10.0\n",
                        "  Using cached typing_extensions-4.1.1-py3-none-any.whl (26 kB)\n",
                        "Collecting MarkupSafe>=2.0\n",
                        "  Using cached MarkupSafe-2.1.1-cp310-cp310-win_amd64.whl (17 kB)\n",
                        "Requirement already satisfied: pyparsing!=3.0.5,>=2.0.2 in c:\\users\\marcop\\appdata\\local\\programs\\python\\python310\\lib\\site-packages (from packaging>=16.8->bokeh) (3.0.7)\n",
                        "Installing collected packages: typing-extensions, PyYAML, MarkupSafe, Jinja2, bokeh\n",
                        "Collecting bokeh\n",
                        "  Downloading bokeh-2.4.2-py3-none-any.whl (18.5 MB)\n",
                        "     --------------------------------------- 18.5/18.5 MB 38.2 kB/s eta 0:00:00\n",
                        "Requirement already satisfied: pillow>=7.1.0 in c:\\users\\marcop\\appdata\\local\\programs\\python\\python310\\lib\\site-packages (from bokeh) (9.0.1)\n",
                        "Collecting PyYAML>=3.10\n",
                        "  Using cached PyYAML-6.0-cp310-cp310-win_amd64.whl (151 kB)\n",
                        "Collecting typing-extensions>=3.10.0\n",
                        "  Using cached typing_extensions-4.1.1-py3-none-any.whl (26 kB)\n",
                        "Requirement already satisfied: numpy>=1.11.3 in c:\\users\\marcop\\appdata\\local\\programs\\python\\python310\\lib\\site-packages (from bokeh) (1.22.3)\n",
                        "Requirement already satisfied: packaging>=16.8 in c:\\users\\marcop\\appdata\\local\\programs\\python\\python310\\lib\\site-packages (from bokeh) (21.3)\n",
                        "Collecting Jinja2>=2.9\n",
                        "  Using cached Jinja2-3.1.1-py3-none-any.whl (132 kB)\n",
                        "Requirement already satisfied: tornado>=5.1 in c:\\users\\marcop\\appdata\\roaming\\python\\python310\\site-packages (from bokeh) (6.1)\n",
                        "Collecting MarkupSafe>=2.0\n",
                        "  Using cached MarkupSafe-2.1.1-cp310-cp310-win_amd64.whl (17 kB)\n",
                        "Requirement already satisfied: pyparsing!=3.0.5,>=2.0.2 in c:\\users\\marcop\\appdata\\local\\programs\\python\\python310\\lib\\site-packages (from packaging>=16.8->bokeh) (3.0.7)\n",
                        "Installing collected packages: typing-extensions, PyYAML, MarkupSafe, Jinja2, bokeh\n",
                        "Successfully installed Jinja2-3.1.1 MarkupSafe-2.1.1 PyYAML-6.0 bokeh-2.4.2 typing-extensions-4.1.1\n",
                        "Collecting bokeh\n",
                        "  Downloading bokeh-2.4.2-py3-none-any.whl (18.5 MB)\n",
                        "     --------------------------------------- 18.5/18.5 MB 41.2 kB/s eta 0:00:00\n",
                        "Requirement already satisfied: packaging>=16.8 in c:\\users\\marcop\\appdata\\local\\programs\\python\\python310\\lib\\site-packages (from bokeh) (21.3)\n",
                        "Collecting PyYAML>=3.10\n",
                        "  Using cached PyYAML-6.0-cp310-cp310-win_amd64.whl (151 kB)\n",
                        "Requirement already satisfied: tornado>=5.1 in c:\\users\\marcop\\appdata\\roaming\\python\\python310\\site-packages (from bokeh) (6.1)\n",
                        "Requirement already satisfied: pillow>=7.1.0 in c:\\users\\marcop\\appdata\\local\\programs\\python\\python310\\lib\\site-packages (from bokeh) (9.0.1)\n",
                        "Collecting Jinja2>=2.9\n",
                        "  Using cached Jinja2-3.1.1-py3-none-any.whl (132 kB)\n",
                        "Requirement already satisfied: numpy>=1.11.3 in c:\\users\\marcop\\appdata\\local\\programs\\python\\python310\\lib\\site-packages (from bokeh) (1.22.3)\n",
                        "Collecting typing-extensions>=3.10.0\n",
                        "  Using cached typing_extensions-4.1.1-py3-none-any.whl (26 kB)\n",
                        "Collecting MarkupSafe>=2.0\n",
                        "  Using cached MarkupSafe-2.1.1-cp310-cp310-win_amd64.whl (17 kB)\n",
                        "Requirement already satisfied: pyparsing!=3.0.5,>=2.0.2 in c:\\users\\marcop\\appdata\\local\\programs\\python\\python310\\lib\\site-packages (from packaging>=16.8->bokeh) (3.0.7)\n",
                        "Installing collected packages: typing-extensions, PyYAML, MarkupSafe, Jinja2, bokeh\n",
                        "Successfully installed Jinja2-3.1.1 MarkupSafe-2.1.1 PyYAML-6.0 bokeh-2.4.2 typing-extensions-4.1.1\n"
                    ]
                }
            ],
            "source": [
                "import sys\n",
                "print(sys.executable)"
            ]
        }
    ],
    "metadata": {
        "interpreter": {
            "hash": "d1bc88fcef6d85ff5b8ef71bcc662743516653af5bdadaceabfcefb0a058b1a0"
        },
        "kernelspec": {
            "display_name": "Python 3.10.4 64-bit",
            "name": "python3"
        },
        "language_info": {
            "codemirror_mode": {
                "name": "ipython",
                "version": 3
            },
            "file_extension": ".py",
            "mimetype": "text/x-python",
            "name": "python",
            "nbconvert_exporter": "python",
            "pygments_lexer": "ipython3",
            "version": "3.10.4"
        },
        "orig_nbformat": 4
    },
    "nbformat": 4,
    "nbformat_minor": 2
}
