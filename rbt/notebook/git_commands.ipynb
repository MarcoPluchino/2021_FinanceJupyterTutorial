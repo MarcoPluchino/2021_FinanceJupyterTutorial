{
 "cells": [
  {
   "cell_type": "markdown",
   "metadata": {},
   "source": [
    "# GIT CONFIGURATION\n",
    "[Tutorial](http://vcloud-lab.com/entries/powershell/solved-visual-studio-code-make-sure-you-configure-your-user-name-and-user-email-in-git)"
   ]
  },
  {
   "cell_type": "code",
   "execution_count": 6,
   "metadata": {},
   "outputs": [
    {
     "name": "stdout",
     "output_type": "stream",
     "text": [
      "Import(enable=False,verbose=False)\n",
      " \n"
     ]
    }
   ],
   "source": [
    "# INIT\n",
    "import os,sys\n",
    "sys.path.append(os.path.abspath(\"../../\"))\n",
    "import rbt.py.excel as exc\n",
    "# READ SWC\n",
    "swc = exc.Swc(enable=False, SWC_file=os.path.abspath(\"../../SWC.xlsx\"), verbose=False)\n",
    "swc.read()\n",
    "# GET SWC VALUE\n",
    "git_exe        =   swc.get(sheet = 'other', column = 'NAME', find = 'git.exe', desired = 'VALUE', ISO = 'Default')\n",
    "\n"
   ]
  },
  {
   "cell_type": "code",
   "execution_count": 13,
   "metadata": {},
   "outputs": [],
   "source": [
    "cmd1 = f\"git config --global user.email \"\"marco.pluchino@gmail.com\"\"\"\n",
    "cmd2 = f\"git config --global user.name \"\"Marco\"\"\"\n",
    "!start $git_exe $cmd1\n",
    "!start $git_exe $cmd2"
   ]
  },
  {
   "cell_type": "code",
   "execution_count": null,
   "metadata": {},
   "outputs": [],
   "source": [
    "# cd C:\\Program Files\\Git\\bin\n",
    "\n",
    "# git config --global user.email \"you@example.com\"\n",
    "# git config --global user.name \"Your Name\"\n"
   ]
  }
 ],
 "metadata": {
  "interpreter": {
   "hash": "cf3fcc9f8d01bcaa101140aff795f45e333ed03c25cc4b0a2ebb599bde89667d"
  },
  "kernelspec": {
   "display_name": "Python 3.10.4 64-bit",
   "language": "python",
   "name": "python3"
  },
  "language_info": {
   "codemirror_mode": {
    "name": "ipython",
    "version": 3
   },
   "file_extension": ".py",
   "mimetype": "text/x-python",
   "name": "python",
   "nbconvert_exporter": "python",
   "pygments_lexer": "ipython3",
   "version": "3.10.4"
  },
  "orig_nbformat": 4
 },
 "nbformat": 4,
 "nbformat_minor": 2
}
