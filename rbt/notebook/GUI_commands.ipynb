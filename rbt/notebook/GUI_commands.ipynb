{
 "cells": [
  {
   "cell_type": "markdown",
   "metadata": {},
   "source": [
    "# GUI2PY"
   ]
  },
  {
   "cell_type": "code",
   "execution_count": 2,
   "metadata": {},
   "outputs": [
    {
     "name": "stdout",
     "output_type": "stream",
     "text": [
      "Import(enable=False,verbose=False)\n",
      " \n",
      "**************************************************************************************************** \n",
      "INIT\n"
     ]
    }
   ],
   "source": [
    "# INIT\n",
    "import os,sys\n",
    "sys.path.append(os.path.abspath(\"../../\"))\n",
    "import rbt.py.excel as exc\n",
    "# READ SWC\n",
    "swc             = exc.Swc(enable=False, SWC_file=os.path.abspath(\"../../SWC.xlsx\"), verbose=False)\n",
    "swc.read()\n",
    "# GET SWC VALUE\n",
    "prj_path        =   eval(swc.get(sheet = 'other', column = 'NAME', find = 'project path', desired = 'VALUE', ISO = 'Default'))\n",
    "designer_exe    =   swc.get(sheet = 'other', column = 'NAME', find = 'designer.exe', desired = 'VALUE', ISO = 'Default')\n",
    "pyrcc5_exe      =   swc.get(sheet = 'other', column = 'NAME', find = 'pyrcc5.exe', desired = 'VALUE', ISO = 'Default')\n",
    "gui_ui          =   swc.get(sheet = 'other', column = 'NAME', find = 'gui file ui', desired = 'VALUE', ISO = 'Default')\n",
    "gui_py          =   swc.get(sheet = 'other', column = 'NAME', find = 'gui file py', desired = 'VALUE', ISO = 'Default')\n",
    "resource_py     =   swc.get(sheet = 'other', column = 'NAME', find = 'resource file py', desired = 'VALUE', ISO = 'Default')\n",
    "resource_qrc    =   swc.get(sheet = 'other', column = 'NAME', find = 'resource file qrc', desired = 'VALUE', ISO = 'Default')\n",
    "print(\"*\"*100,\"\\nINIT\")"
   ]
  },
  {
   "cell_type": "markdown",
   "metadata": {},
   "source": [
    "# Open Designer.exe"
   ]
  },
  {
   "cell_type": "code",
   "execution_count": 3,
   "metadata": {},
   "outputs": [],
   "source": [
    "# GUI EDITOR\n",
    "gui_ui_abs = f\"{prj_path}{gui_ui}\"\n",
    "!start $designer_exe $gui_ui_abs"
   ]
  },
  {
   "cell_type": "markdown",
   "metadata": {},
   "source": [
    "# qrc2py"
   ]
  },
  {
   "cell_type": "code",
   "execution_count": 1,
   "metadata": {},
   "outputs": [
    {
     "ename": "NameError",
     "evalue": "name 'prj_path' is not defined",
     "output_type": "error",
     "traceback": [
      "\u001b[1;31m---------------------------------------------------------------------------\u001b[0m",
      "\u001b[1;31mNameError\u001b[0m                                 Traceback (most recent call last)",
      "\u001b[1;32mc:\\Users\\marco.pluchino\\Desktop\\Marco\\finance\\2021_FinanceJupyterTutorial\\rbt\\notebook\\GUI_commands.ipynb Cell 6'\u001b[0m in \u001b[0;36m<cell line: 2>\u001b[1;34m()\u001b[0m\n\u001b[0;32m      <a href='vscode-notebook-cell:/c%3A/Users/marco.pluchino/Desktop/Marco/finance/2021_FinanceJupyterTutorial/rbt/notebook/GUI_commands.ipynb#ch0000005?line=0'>1</a>\u001b[0m \u001b[39m# QRC2PY\u001b[39;00m\n\u001b[1;32m----> <a href='vscode-notebook-cell:/c%3A/Users/marco.pluchino/Desktop/Marco/finance/2021_FinanceJupyterTutorial/rbt/notebook/GUI_commands.ipynb#ch0000005?line=1'>2</a>\u001b[0m resource_py_abs     \u001b[39m=\u001b[39m \u001b[39mf\u001b[39m\u001b[39m\"\u001b[39m\u001b[39m{\u001b[39;00mprj_path\u001b[39m}\u001b[39;00m\u001b[39m{\u001b[39;00mresource_py\u001b[39m}\u001b[39;00m\u001b[39m\"\u001b[39m\n\u001b[0;32m      <a href='vscode-notebook-cell:/c%3A/Users/marco.pluchino/Desktop/Marco/finance/2021_FinanceJupyterTutorial/rbt/notebook/GUI_commands.ipynb#ch0000005?line=2'>3</a>\u001b[0m resource_qrc_abs    \u001b[39m=\u001b[39m \u001b[39mf\u001b[39m\u001b[39m\"\u001b[39m\u001b[39m{\u001b[39;00mprj_path\u001b[39m}\u001b[39;00m\u001b[39m{\u001b[39;00mresource_qrc\u001b[39m}\u001b[39;00m\u001b[39m\"\u001b[39m\n\u001b[0;32m      <a href='vscode-notebook-cell:/c%3A/Users/marco.pluchino/Desktop/Marco/finance/2021_FinanceJupyterTutorial/rbt/notebook/GUI_commands.ipynb#ch0000005?line=3'>4</a>\u001b[0m \u001b[39mprint\u001b[39m(pyrcc5_exe,resource_py_abs,resource_qrc_abs,sep\u001b[39m=\u001b[39m\u001b[39m'\u001b[39m\u001b[39m\\n\u001b[39;00m\u001b[39m'\u001b[39m)\n",
      "\u001b[1;31mNameError\u001b[0m: name 'prj_path' is not defined"
     ]
    }
   ],
   "source": [
    "# QRC2PY\n",
    "resource_py_abs     = f\"{prj_path}{resource_py}\"\n",
    "resource_qrc_abs    = f\"{prj_path}{resource_qrc}\"\n",
    "print(pyrcc5_exe,resource_py_abs,resource_qrc_abs,sep='\\n')\n",
    "# prompt command\n",
    "!$pyrcc5_exe -o $resource_py_abs $resource_qrc_abs\n",
    "print(\"*\"*100)\n",
    "print(\"Created file:\\n resources_rc.py\")"
   ]
  },
  {
   "cell_type": "markdown",
   "metadata": {},
   "source": [
    "# UI2PY"
   ]
  },
  {
   "cell_type": "code",
   "execution_count": 5,
   "metadata": {},
   "outputs": [
    {
     "name": "stdout",
     "output_type": "stream",
     "text": [
      "c:\\Users\\marco.pluchino\\Desktop\\Marco\\finance\\2021_FinanceJupyterTutorial\\rbt\\gui\\ui_gui.ui\n",
      "c:\\Users\\marco.pluchino\\Desktop\\Marco\\finance\\2021_FinanceJupyterTutorial\\rbt\\gui\\ui_gui.py\n",
      "****************************************************************************************************\n",
      "Created file:\n",
      " ui_gui.py\n"
     ]
    }
   ],
   "source": [
    "#python -m PyQt5.uic.pyuic -x \"ui_gui.ui\" -o \"ui_gui.py\"\n",
    "gui_ui_abs = f\"{prj_path}{gui_ui}\"\n",
    "gui_py_abs = f\"{prj_path}{gui_py}\"\n",
    "print(gui_ui_abs)\n",
    "print(gui_py_abs)\n",
    "#!python -m PyQt5.uic.pyuic -x $gui_ui_abs -o $gui_py_abs\n",
    "!python -m PyQt5.uic.pyuic -x $gui_ui_abs -o $gui_py_abs\n",
    "print(\"*\"*100)\n",
    "print(\"Created file:\\n ui_gui.py\")"
   ]
  },
  {
   "cell_type": "markdown",
   "metadata": {},
   "source": [
    "# remove wrong import"
   ]
  }
 ],
 "metadata": {
  "interpreter": {
   "hash": "cf3fcc9f8d01bcaa101140aff795f45e333ed03c25cc4b0a2ebb599bde89667d"
  },
  "kernelspec": {
   "display_name": "Python 3.10.4 64-bit",
   "language": "python",
   "name": "python3"
  },
  "language_info": {
   "codemirror_mode": {
    "name": "ipython",
    "version": 3
   },
   "file_extension": ".py",
   "mimetype": "text/x-python",
   "name": "python",
   "nbconvert_exporter": "python",
   "pygments_lexer": "ipython3",
   "version": "3.10.4"
  },
  "orig_nbformat": 4
 },
 "nbformat": 4,
 "nbformat_minor": 2
}
