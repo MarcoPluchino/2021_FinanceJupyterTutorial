{
 "cells": [
  {
   "cell_type": "markdown",
   "metadata": {},
   "source": [
    "[Come Creare libreria python](https://medium.com/analytics-vidhya/how-to-create-a-python-library-7d5aea80cc3f)"
   ]
  }
 ],
 "metadata": {
  "language_info": {
   "name": "python"
  },
  "orig_nbformat": 4
 },
 "nbformat": 4,
 "nbformat_minor": 2
}
