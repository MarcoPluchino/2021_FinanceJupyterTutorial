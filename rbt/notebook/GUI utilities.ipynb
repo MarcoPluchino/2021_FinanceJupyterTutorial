{
 "cells": [
  {
   "cell_type": "markdown",
   "metadata": {},
   "source": [
    "# GUI commands"
   ]
  },
  {
   "cell_type": "code",
   "execution_count": 30,
   "metadata": {},
   "outputs": [
    {
     "name": "stdout",
     "output_type": "stream",
     "text": [
      "Import(enable=False,verbose=False)\n",
      " \n",
      "**************************************************************************************************** \n",
      "INIT\n"
     ]
    }
   ],
   "source": [
    "# INIT\n",
    "import os,sys\n",
    "sys.path.append(os.path.abspath(\"../../\"))\n",
    "import rbt.py.excel as exc\n",
    "# READ SWC\n",
    "swc = exc.Swc(enable=False, SWC_file=os.path.abspath(\"../../SWC.xlsx\"), verbose=False)\n",
    "swc.read()\n",
    "# GET SWC VALUE\n",
    "prj_path        =   eval(swc.get(sheet = 'other', column = 'NAME', find = 'project path', desired = 'VALUE', ISO = 'Default'))\n",
    "designer_exe    =   swc.get(sheet = 'other', column = 'NAME', find = 'designer.exe', desired = 'VALUE', ISO = 'Default')\n",
    "pyrcc5_exe      =   swc.get(sheet = 'other', column = 'NAME', find = 'pyrcc5.exe', desired = 'VALUE', ISO = 'Default')\n",
    "gui_ui          =   swc.get(sheet = 'other', column = 'NAME', find = 'gui file ui', desired = 'VALUE', ISO = 'Default')\n",
    "gui_py          =   swc.get(sheet = 'other', column = 'NAME', find = 'gui file py', desired = 'VALUE', ISO = 'Default')\n",
    "resource_py     =   swc.get(sheet = 'other', column = 'NAME', find = 'resource file py', desired = 'VALUE', ISO = 'Default')\n",
    "resource_qrc    =   swc.get(sheet = 'other', column = 'NAME', find = 'resource file qrc', desired = 'VALUE', ISO = 'Default')\n",
    "print(\"*\"*100,\"\\nINIT\")"
   ]
  },
  {
   "cell_type": "markdown",
   "metadata": {},
   "source": [
    "# Open Designer.exe"
   ]
  },
  {
   "cell_type": "code",
   "execution_count": 31,
   "metadata": {},
   "outputs": [],
   "source": [
    "# GUI EDITOR\n",
    "gui_ui_abs = f\"{prj_path}{gui_ui}\"\n",
    "!start $designer_exe $gui_ui_abs"
   ]
  },
  {
   "cell_type": "markdown",
   "metadata": {},
   "source": [
    "# qrc2py"
   ]
  },
  {
   "cell_type": "code",
   "execution_count": 32,
   "metadata": {},
   "outputs": [
    {
     "name": "stdout",
     "output_type": "stream",
     "text": [
      "C:\\Users\\marco.pluchino\\AppData\\Local\\Programs\\Python\\Python310\\Scripts\\pyrcc5.exe\n",
      "c:\\Users\\marco.pluchino\\Desktop\\Marco\\finance\\2021_FinanceJupyterTutorial\\rbt\\gui\\resources.py\n",
      "c:\\Users\\marco.pluchino\\Desktop\\Marco\\finance\\2021_FinanceJupyterTutorial\\rbt\\gui\\icons\\resource.qrc\n",
      "****************************************************************************************************\n",
      "Created file:\n",
      " resources.py\n"
     ]
    }
   ],
   "source": [
    "# QRC2PY\n",
    "pyrcc5_exe\n",
    "resource_py_abs = f\"{prj_path}{resource_py}\"\n",
    "resource_qrc_abs = f\"{prj_path}{resource_qrc}\"\n",
    "print(pyrcc5_exe,resource_py_abs,resource_qrc_abs,sep='\\n')\n",
    "# prompt command\n",
    "!$pyrcc5_exe -o $resource_py_abs $resource_qrc_abs\n",
    "print(\"*\"*100)\n",
    "print(\"Created file:\\n resources.py\")\n"
   ]
  },
  {
   "cell_type": "markdown",
   "metadata": {},
   "source": [
    "# UI2PY"
   ]
  },
  {
   "cell_type": "code",
   "execution_count": 33,
   "metadata": {},
   "outputs": [
    {
     "name": "stdout",
     "output_type": "stream",
     "text": [
      "c:\\Users\\marco.pluchino\\Desktop\\Marco\\finance\\2021_FinanceJupyterTutorial\\rbt\\gui\\ui_gui.ui\n",
      "c:\\Users\\marco.pluchino\\Desktop\\Marco\\finance\\2021_FinanceJupyterTutorial\\rbt\\gui\\ui_gui.py\n",
      "****************************************************************************************************\n",
      "Created file:\n",
      " ui_gui.py\n"
     ]
    }
   ],
   "source": [
    "#python -m PyQt5.uic.pyuic -x \"ui_gui.ui\" -o \"ui_gui.py\"\n",
    "gui_ui_abs = f\"{prj_path}{gui_ui}\"\n",
    "gui_py_abs = f\"{prj_path}{gui_py}\"\n",
    "print(gui_ui_abs)\n",
    "print(gui_py_abs)\n",
    "#!python -m PyQt5.uic.pyuic -x $gui_ui_abs -o $gui_py_abs\n",
    "!python -m PyQt5.uic.pyuic -x $gui_ui_abs -o $gui_py_abs\n",
    "print(\"*\"*100)\n",
    "print(\"Created file:\\n ui_gui.py\")"
   ]
  },
  {
   "cell_type": "markdown",
   "metadata": {},
   "source": [
    "# remove wrong import"
   ]
  }
 ],
 "metadata": {
  "interpreter": {
   "hash": "cf3fcc9f8d01bcaa101140aff795f45e333ed03c25cc4b0a2ebb599bde89667d"
  },
  "kernelspec": {
   "display_name": "Python 3.10.4 64-bit",
   "language": "python",
   "name": "python3"
  },
  "language_info": {
   "codemirror_mode": {
    "name": "ipython",
    "version": 3
   },
   "file_extension": ".py",
   "mimetype": "text/x-python",
   "name": "python",
   "nbconvert_exporter": "python",
   "pygments_lexer": "ipython3",
   "version": "3.10.4"
  },
  "orig_nbformat": 4
 },
 "nbformat": 4,
 "nbformat_minor": 2
}
