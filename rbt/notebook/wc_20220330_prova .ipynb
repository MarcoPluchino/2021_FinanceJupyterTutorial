{
 "cells": [
  {
   "cell_type": "code",
   "execution_count": 1,
   "metadata": {},
   "outputs": [
    {
     "name": "stdout",
     "output_type": "stream",
     "text": [
      "Collecting pyqt5-tools\n",
      "  Using cached pyqt5_tools-5.15.4.3.2-py3-none-any.whl (29 kB)\n",
      "Collecting click\n",
      "  Downloading click-8.1.0-py3-none-any.whl (96 kB)\n",
      "     ---------------------------------------- 96.4/96.4 KB 2.8 MB/s eta 0:00:00\n",
      "Collecting pyqt5-tools\n",
      "  Downloading pyqt5_tools-5.15.4.3.1-py3-none-any.whl (28 kB)\n",
      "Collecting python-dotenv\n",
      "  Downloading python_dotenv-0.20.0-py3-none-any.whl (17 kB)\n",
      "Collecting pyqt5-tools\n",
      "  Downloading pyqt5_tools-5.15.4.3.0.3-py3-none-any.whl (28 kB)\n",
      "  Downloading pyqt5_tools-5.15.3.3.2-py3-none-any.whl (29 kB)\n",
      "Collecting pyqt5==5.15.3\n",
      "  Downloading PyQt5-5.15.3.tar.gz (3.3 MB)\n",
      "     ---------------------------------------- 3.3/3.3 MB 6.1 MB/s eta 0:00:00\n",
      "  Installing build dependencies: started\n",
      "  Installing build dependencies: finished with status 'done'\n",
      "  Getting requirements to build wheel: started\n",
      "  Getting requirements to build wheel: finished with status 'done'\n",
      "  Preparing metadata (pyproject.toml): started\n",
      "  Preparing metadata (pyproject.toml): finished with status 'error'\n"
     ]
    },
    {
     "name": "stderr",
     "output_type": "stream",
     "text": [
      "  error: subprocess-exited-with-error\n",
      "  \n",
      "  × Preparing metadata (pyproject.toml) did not run successfully.\n",
      "  │ exit code: 1\n",
      "  ╰─> [29 lines of output]\n",
      "      Traceback (most recent call last):\n",
      "        File \"C:\\Users\\marco.pluchino\\AppData\\Local\\Programs\\Python\\Python310\\lib\\site-packages\\pip\\_vendor\\pep517\\in_process\\_in_process.py\", line 156, in prepare_metadata_for_build_wheel\n",
      "          hook = backend.prepare_metadata_for_build_wheel\n",
      "      AttributeError: module 'sipbuild.api' has no attribute 'prepare_metadata_for_build_wheel'\n",
      "      \n",
      "      During handling of the above exception, another exception occurred:\n",
      "      \n",
      "      Traceback (most recent call last):\n",
      "        File \"C:\\Users\\marco.pluchino\\AppData\\Local\\Programs\\Python\\Python310\\lib\\site-packages\\pip\\_vendor\\pep517\\in_process\\_in_process.py\", line 363, in <module>\n",
      "          main()\n",
      "        File \"C:\\Users\\marco.pluchino\\AppData\\Local\\Programs\\Python\\Python310\\lib\\site-packages\\pip\\_vendor\\pep517\\in_process\\_in_process.py\", line 345, in main\n",
      "          json_out['return_val'] = hook(**hook_input['kwargs'])\n",
      "        File \"C:\\Users\\marco.pluchino\\AppData\\Local\\Programs\\Python\\Python310\\lib\\site-packages\\pip\\_vendor\\pep517\\in_process\\_in_process.py\", line 160, in prepare_metadata_for_build_wheel\n",
      "          whl_basename = backend.build_wheel(metadata_directory, config_settings)\n",
      "        File \"C:\\Users\\marco.pluchino\\AppData\\Local\\Temp\\pip-build-env-74twtr5f\\overlay\\Lib\\site-packages\\sipbuild\\api.py\", line 51, in build_wheel\n",
      "          project = AbstractProject.bootstrap('pep517')\n",
      "        File \"C:\\Users\\marco.pluchino\\AppData\\Local\\Temp\\pip-build-env-74twtr5f\\overlay\\Lib\\site-packages\\sipbuild\\abstract_project.py\", line 83, in bootstrap\n",
      "          project.setup(pyproject, tool, tool_description)\n",
      "        File \"C:\\Users\\marco.pluchino\\AppData\\Local\\Temp\\pip-build-env-74twtr5f\\overlay\\Lib\\site-packages\\sipbuild\\project.py\", line 594, in setup\n",
      "          self.apply_user_defaults(tool)\n",
      "        File \"C:\\Users\\marco.pluchino\\AppData\\Local\\Temp\\pip-install-ft9bjtfc\\pyqt5_5db2b4b2991546a1b60d931aec6f5791\\project.py\", line 63, in apply_user_defaults\n",
      "          super().apply_user_defaults(tool)\n",
      "        File \"C:\\Users\\marco.pluchino\\AppData\\Local\\Temp\\pip-build-env-74twtr5f\\overlay\\Lib\\site-packages\\pyqtbuild\\project.py\", line 70, in apply_user_defaults\n",
      "          super().apply_user_defaults(tool)\n",
      "        File \"C:\\Users\\marco.pluchino\\AppData\\Local\\Temp\\pip-build-env-74twtr5f\\overlay\\Lib\\site-packages\\sipbuild\\project.py\", line 241, in apply_user_defaults\n",
      "          self.builder.apply_user_defaults(tool)\n",
      "        File \"C:\\Users\\marco.pluchino\\AppData\\Local\\Temp\\pip-build-env-74twtr5f\\overlay\\Lib\\site-packages\\pyqtbuild\\builder.py\", line 67, in apply_user_defaults\n",
      "          raise PyProjectOptionException('qmake',\n",
      "      sipbuild.pyproject.PyProjectOptionException\n",
      "      [end of output]\n",
      "  \n",
      "  note: This error originates from a subprocess, and is likely not a problem with pip.\n",
      "error: metadata-generation-failed\n",
      "\n",
      "× Encountered error while generating package metadata.\n",
      "╰─> See above for output.\n",
      "\n",
      "note: This is an issue with the package mentioned above, not pip.\n",
      "hint: See above for details.\n"
     ]
    }
   ],
   "source": [
    "!python -m pip install pyqt5-tools"
   ]
  },
  {
   "cell_type": "code",
   "execution_count": 3,
   "metadata": {},
   "outputs": [
    {
     "data": {
      "text/plain": [
       "'C:\\\\Users\\\\marco.pluchino\\\\AppData\\\\Local\\\\Programs\\\\Python\\\\Python310\\\\python.exe'"
      ]
     },
     "execution_count": 3,
     "metadata": {},
     "output_type": "execute_result"
    }
   ],
   "source": [
    "import sys\n",
    "sys.executable"
   ]
  }
 ],
 "metadata": {
  "interpreter": {
   "hash": "cf3fcc9f8d01bcaa101140aff795f45e333ed03c25cc4b0a2ebb599bde89667d"
  },
  "kernelspec": {
   "display_name": "Python 3.10.4 64-bit",
   "language": "python",
   "name": "python3"
  },
  "language_info": {
   "codemirror_mode": {
    "name": "ipython",
    "version": 3
   },
   "file_extension": ".py",
   "mimetype": "text/x-python",
   "name": "python",
   "nbconvert_exporter": "python",
   "pygments_lexer": "ipython3",
   "version": "3.10.4"
  },
  "orig_nbformat": 4
 },
 "nbformat": 4,
 "nbformat_minor": 2
}
