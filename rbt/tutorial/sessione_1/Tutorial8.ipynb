{
    "cells": [
        {
            "cell_type": "markdown",
            "metadata": {},
            "source": [
                "# Regression\n",
                "[1 Regressioni Lineari](https://blog.quantinsti.com/linear-regression-market-data-python-r/)"
            ]
        },
        {
            "cell_type": "markdown",
            "metadata": {},
            "source": [
                "## 1) statsmodels"
            ]
        },
        {
            "cell_type": "code",
            "execution_count": 4,
            "metadata": {},
            "outputs": [],
            "source": [
                "### Import the required libraries\n",
                "\n",
                "import numpy as np\n",
                "import pandas as pd\n",
                "\n",
                "import yfinance as yf\n",
                "import datetime\n",
                "import matplotlib.pyplot as plt\n",
                "\n",
                "## To use statsmodels for linear regression\n",
                "import statsmodels.formula.api as smf\n",
                "\n",
                "## To use sklearn for linear regression\n",
                "from sklearn.linear_model import LinearRegression"
            ]
        },
        {
            "cell_type": "code",
            "execution_count": 5,
            "metadata": {},
            "outputs": [],
            "source": [
                "####################################################\n",
                "## Fetch data from yfinance\n",
                "## 3-year daily data for Coca-Cola, SPY, Pepsi, and USD index\n",
                "\n",
                "end1 = datetime.date(2021, 7, 28)\n",
                "start1 = end1 - pd.Timedelta(days = 365 * 3)\n",
                "\n",
                "ko_df = yf.download(\"KO\", start = start1, end = end1, progress = False)\n",
                "spy_df = yf.download(\"SPY\", start = start1, end = end1, progress = False)\n",
                "pep_df = yf.download(\"PEP\", start = start1, end = end1, progress = False)\n",
                "usdx_df = yf.download(\"DX-Y.NYB\", start = start1, end = end1, progress = False)\n",
                "\n",
                "####################################################\n",
                "## Calculate log returns for the period based on Adj Close prices\n",
                "\n",
                "ko_df['ko'] = np.log(ko_df['Adj Close'] / ko_df['Adj Close'].shift(1))\n",
                "spy_df['spy'] = np.log(spy_df['Adj Close'] / spy_df['Adj Close'].shift(1))\n",
                "pep_df['pep'] = np.log(pep_df['Adj Close'] / pep_df['Adj Close'].shift(1))\n",
                "usdx_df['usdx'] = np.log(usdx_df['Adj Close'] / usdx_df['Adj Close'].shift(1))\n",
                "\n",
                "####################################################"
            ]
        },
        {
            "cell_type": "code",
            "execution_count": 6,
            "metadata": {},
            "outputs": [],
            "source": [
                "####################################################\n",
                "## Create a dataframe with X's (spy, pep, usdx) and Y (ko)\n",
                "\n",
                "df = pd.concat([spy_df['spy'], ko_df['ko'], \n",
                "                pep_df['pep'], usdx_df['usdx']], axis = 1).dropna()\n",
                "\n",
                "## Save the csv file. Good practice to save data files after initial processing\n",
                "df.to_csv(\"Jul2021_data_lin_regression.csv\")"
            ]
        },
        {
            "cell_type": "code",
            "execution_count": 7,
            "metadata": {},
            "outputs": [
                {
                    "data": {
                        "image/png": "[encoded data removed]",
                        "text/plain": [
                            "<Figure size 720x432 with 1 Axes>"
                        ]
                    },
                    "metadata": {
                        "needs_background": "light"
                    },
                    "output_type": "display_data"
                }
            ],
            "source": [
                "####################################################\n",
                "## A scatter plot of X (spy) and Y (ko) to examine the nature of their relationship visually\n",
                "\n",
                "plt.figure(figsize = (10, 6))\n",
                "plt.rcParams.update({'font.size': 14})\n",
                "plt.xlabel(\"SPY returns\")\n",
                "plt.ylabel(\"KO returns\")\n",
                "plt.title(\"Scatter plot of daily returns (Jul 2018 to Jul 2021)\")\n",
                "plt.scatter(df['spy'], df['ko'])\n",
                "plt.show()\n",
                "\n",
                "####################################################"
            ]
        },
        {
            "cell_type": "code",
            "execution_count": 8,
            "metadata": {},
            "outputs": [
                {
                    "data": {
                        "text/html": [
                            "<div>\n",
                            "<style scoped>\n",
                            "    .dataframe tbody tr th:only-of-type {\n",
                            "        vertical-align: middle;\n",
                            "    }\n",
                            "\n",
                            "    .dataframe tbody tr th {\n",
                            "        vertical-align: top;\n",
                            "    }\n",
                            "\n",
                            "    .dataframe thead th {\n",
                            "        text-align: right;\n",
                            "    }\n",
                            "</style>\n",
                            "<table border=\"1\" class=\"dataframe\">\n",
                            "  <thead>\n",
                            "    <tr style=\"text-align: right;\">\n",
                            "      <th></th>\n",
                            "      <th>spy</th>\n",
                            "      <th>ko</th>\n",
                            "      <th>pep</th>\n",
                            "      <th>usdx</th>\n",
                            "    </tr>\n",
                            "  </thead>\n",
                            "  <tbody>\n",
                            "    <tr>\n",
                            "      <th>spy</th>\n",
                            "      <td>1.000000</td>\n",
                            "      <td>0.685607</td>\n",
                            "      <td>0.727080</td>\n",
                            "      <td>-0.038681</td>\n",
                            "    </tr>\n",
                            "    <tr>\n",
                            "      <th>ko</th>\n",
                            "      <td>0.685607</td>\n",
                            "      <td>1.000000</td>\n",
                            "      <td>0.739573</td>\n",
                            "      <td>-0.097766</td>\n",
                            "    </tr>\n",
                            "    <tr>\n",
                            "      <th>pep</th>\n",
                            "      <td>0.727080</td>\n",
                            "      <td>0.739573</td>\n",
                            "      <td>1.000000</td>\n",
                            "      <td>-0.005847</td>\n",
                            "    </tr>\n",
                            "    <tr>\n",
                            "      <th>usdx</th>\n",
                            "      <td>-0.038681</td>\n",
                            "      <td>-0.097766</td>\n",
                            "      <td>-0.005847</td>\n",
                            "      <td>1.000000</td>\n",
                            "    </tr>\n",
                            "  </tbody>\n",
                            "</table>\n",
                            "</div>"
                        ],
                        "text/plain": [
                            "           spy        ko       pep      usdx\n",
                            "spy   1.000000  0.685607  0.727080 -0.038681\n",
                            "ko    0.685607  1.000000  0.739573 -0.097766\n",
                            "pep   0.727080  0.739573  1.000000 -0.005847\n",
                            "usdx -0.038681 -0.097766 -0.005847  1.000000"
                        ]
                    },
                    "execution_count": 8,
                    "metadata": {},
                    "output_type": "execute_result"
                }
            ],
            "source": [
                "####################################################\n",
                "## 1. Calculate correlation between Xs and Y\n",
                "\n",
                "df.corr()\n",
                "\n",
                "####################################################"
            ]
        },
        {
            "cell_type": "code",
            "execution_count": 9,
            "metadata": {},
            "outputs": [
                {
                    "name": "stdout",
                    "output_type": "stream",
                    "text": [
                        "                            OLS Regression Results                            \n",
                        "==============================================================================\n",
                        "Dep. Variable:                     ko   R-squared:                       0.470\n",
                        "Model:                            OLS   Adj. R-squared:                  0.469\n",
                        "Method:                 Least Squares   F-statistic:                     666.1\n",
                        "Date:                Wed, 30 Mar 2022   Prob (F-statistic):          1.19e-105\n",
                        "Time:                        21:12:07   Log-Likelihood:                 2322.5\n",
                        "No. Observations:                 753   AIC:                            -4641.\n",
                        "Df Residuals:                     751   BIC:                            -4632.\n",
                        "Df Model:                           1                                         \n",
                        "Covariance Type:            nonrobust                                         \n",
                        "==============================================================================\n",
                        "                 coef    std err          t      P>|t|      [0.025      0.975]\n",
                        "------------------------------------------------------------------------------\n",
                        "Intercept  -7.541e-05      0.000     -0.186      0.852      -0.001       0.001\n",
                        "spy            0.7296      0.028     25.810      0.000       0.674       0.785\n",
                        "==============================================================================\n",
                        "Omnibus:                      195.785   Durbin-Watson:                   1.939\n",
                        "Prob(Omnibus):                  0.000   Jarque-Bera (JB):             2556.394\n",
                        "Skew:                          -0.780   Prob(JB):                         0.00\n",
                        "Kurtosis:                      11.891   Cond. No.                         70.0\n",
                        "==============================================================================\n",
                        "\n",
                        "Notes:\n",
                        "[1] Standard Errors assume that the covariance matrix of the errors is correctly specified.\n"
                    ]
                }
            ],
            "source": [
                "####################################################\n",
                "## 2a. Fit a simple linear regression model to the data using statsmodels \n",
                "\n",
                "### Create an instance of the class OLS\n",
                "slr_sm_model = smf.ols('ko ~ spy', data=df)\n",
                "\n",
                "### Fit the model (statsmodels calculates beta_0 and beta_1 here)\n",
                "slr_sm_model_ko = slr_sm_model.fit()\n",
                "\n",
                "### Summarize the model\n",
                "\n",
                "print(slr_sm_model_ko.summary()) \n",
                "\n",
                "param_slr = slr_sm_model_ko.params\n",
                "\n",
                "####################################################"
            ]
        },
        {
            "cell_type": "code",
            "execution_count": 10,
            "metadata": {},
            "outputs": [
                {
                    "name": "stdout",
                    "output_type": "stream",
                    "text": [
                        "\n",
                        "\n",
                        "====================================================================\n",
                        "The intercept in the statsmodels regression model is -0.0001\n",
                        "The slope in the statsmodels regression model is 0.7296\n",
                        "====================================================================\n",
                        "\n",
                        "\n"
                    ]
                }
            ],
            "source": [
                "####################################################\n",
                "### Print the parameter estimates of the simple linear regression model\n",
                "\n",
                "print(\"\\n\")\n",
                "print(\"====================================================================\")\n",
                "print(\"The intercept in the statsmodels regression model is\", \\\n",
                "      np.round(param_slr.Intercept, 4))\n",
                "print(\"The slope in the statsmodels regression model is\", \\\n",
                "      np.round(param_slr.spy, 4))\n",
                "print(\"====================================================================\")\n",
                "print(\"\\n\")\n",
                "####################################################"
            ]
        },
        {
            "cell_type": "code",
            "execution_count": 11,
            "metadata": {},
            "outputs": [
                {
                    "data": {
                        "image/png": "[encoded data removed]",
                        "text/plain": [
                            "<Figure size 720x432 with 1 Axes>"
                        ]
                    },
                    "metadata": {
                        "needs_background": "light"
                    },
                    "output_type": "display_data"
                }
            ],
            "source": [
                "####################################################\n",
                "## Linear regression plot of X (spy) and Y (ko)\n",
                "plt.figure(figsize = (10, 6))\n",
                "plt.rcParams.update({'font.size': 14})\n",
                "plt.xlabel(\"SPY returns\")\n",
                "plt.ylabel(\"KO returns\")\n",
                "plt.title(\"Simple linear regression model\")\n",
                "plt.scatter(df['spy'],df['ko'])\n",
                "plt.plot(df['spy'], param_slr.Intercept+param_slr.spy * df['spy'],\n",
                "         label='Y={:.4f}+{:.4f}X'.format(param_slr.Intercept, param_slr.spy), \n",
                "         color='red')\n",
                "plt.legend()\n",
                "plt.show()\n",
                "\n",
                "####################################################"
            ]
        },
        {
            "cell_type": "code",
            "execution_count": 12,
            "metadata": {},
            "outputs": [
                {
                    "name": "stdout",
                    "output_type": "stream",
                    "text": [
                        "                            OLS Regression Results                            \n",
                        "==============================================================================\n",
                        "Dep. Variable:                     ko   R-squared:                       0.600\n",
                        "Model:                            OLS   Adj. R-squared:                  0.599\n",
                        "Method:                 Least Squares   F-statistic:                     374.8\n",
                        "Date:                Wed, 30 Mar 2022   Prob (F-statistic):          1.30e-148\n",
                        "Time:                        21:12:20   Log-Likelihood:                 2428.7\n",
                        "No. Observations:                 753   AIC:                            -4849.\n",
                        "Df Residuals:                     749   BIC:                            -4831.\n",
                        "Df Model:                           3                                         \n",
                        "Covariance Type:            nonrobust                                         \n",
                        "==============================================================================\n",
                        "                 coef    std err          t      P>|t|      [0.025      0.975]\n",
                        "------------------------------------------------------------------------------\n",
                        "Intercept  -9.198e-05      0.000     -0.261      0.794      -0.001       0.001\n",
                        "spy            0.3274      0.036      9.132      0.000       0.257       0.398\n",
                        "pep            0.5029      0.033     15.307      0.000       0.438       0.567\n",
                        "usdx          -0.3441      0.096     -3.582      0.000      -0.533      -0.155\n",
                        "==============================================================================\n",
                        "Omnibus:                      168.540   Durbin-Watson:                   2.082\n",
                        "Prob(Omnibus):                  0.000   Jarque-Bera (JB):             4386.013\n",
                        "Skew:                          -0.306   Prob(JB):                         0.00\n",
                        "Kurtosis:                      14.808   Cond. No.                         273.\n",
                        "==============================================================================\n",
                        "\n",
                        "Notes:\n",
                        "[1] Standard Errors assume that the covariance matrix of the errors is correctly specified.\n"
                    ]
                }
            ],
            "source": [
                "####################################################\n",
                "### Fit a multiple linear regression model to the data using statsmodels    \n",
                "\n",
                "### Create an instance of the class OLS\n",
                "mlr_sm_model = smf.ols('ko ~ spy + pep + usdx', data=df)\n",
                "\n",
                "### Fit the model (statsmodels calculates beta_0, beta_1, beta_2, beta_3 here)\n",
                "mlr_sm_model_ko = mlr_sm_model.fit()\n",
                "\n",
                "### Summarize the model\n",
                "\n",
                "print(mlr_sm_model_ko.summary())"
            ]
        },
        {
            "cell_type": "code",
            "execution_count": 13,
            "metadata": {},
            "outputs": [
                {
                    "name": "stdout",
                    "output_type": "stream",
                    "text": [
                        "\n",
                        "\n",
                        "====================================================================\n",
                        "The intercept and slopes in the statsmodels regression model are\n",
                        "\n",
                        "\n",
                        "Intercept   -0.000092\n",
                        "spy          0.327410\n",
                        "pep          0.502912\n",
                        "usdx        -0.344074\n",
                        "dtype: float64\n",
                        "====================================================================\n",
                        "\n",
                        "\n"
                    ]
                }
            ],
            "source": [
                "####################################################\n",
                "### Print the parameter estimates of the muliple linear regression model\n",
                "\n",
                "param_mlr = mlr_sm_model_ko.params\n",
                "\n",
                "print(\"\\n\")\n",
                "print(\"====================================================================\")\n",
                "print(\"The intercept and slopes in the statsmodels regression model are\")\n",
                "print(\"\\n\")\n",
                "print(param_mlr)\n",
                "print(\"====================================================================\")\n",
                "print(\"\\n\")\n",
                "####################################################"
            ]
        },
        {
            "cell_type": "markdown",
            "metadata": {},
            "source": []
        }
    ],
    "metadata": {
        "interpreter": {
            "hash": "57baa5815c940fdaff4d14510622de9616cae602444507ba5d0b6727c008cbd6"
        },
        "kernelspec": {
            "display_name": "Python 3.7.8 64-bit",
            "name": "python3"
        },
        "language_info": {
            "codemirror_mode": {
                "name": "ipython",
                "version": 3
            },
            "file_extension": ".py",
            "mimetype": "text/x-python",
            "name": "python",
            "nbconvert_exporter": "python",
            "pygments_lexer": "ipython3",
            "version": "3.10.4"
        },
        "orig_nbformat": 4
    },
    "nbformat": 4,
    "nbformat_minor": 2
}
