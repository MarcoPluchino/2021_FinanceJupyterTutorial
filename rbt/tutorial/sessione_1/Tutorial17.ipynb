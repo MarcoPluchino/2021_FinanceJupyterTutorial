{
 "cells": [
  {
   "cell_type": "markdown",
   "metadata": {},
   "source": [
    "# Calcolo Momentum\n",
    "[1 Calcolo momentum e altro](https://medium.com/codex/picking-stocks-with-a-quantitative-momentum-strategy-in-python-b15ac8925ec6)"
   ]
  },
  {
   "cell_type": "code",
   "execution_count": 2,
   "metadata": {},
   "outputs": [],
   "source": [
    "import pandas as pd\n",
    "import requests\n",
    "import numpy as np\n",
    "from scipy.stats import percentileofscore as score\n",
    "from statistics import mean\n",
    "from math import floor"
   ]
  },
  {
   "cell_type": "code",
   "execution_count": 6,
   "metadata": {},
   "outputs": [
    {
     "data": {
      "text/plain": [
       "array(['MMM'], dtype=object)"
      ]
     },
     "execution_count": 6,
     "metadata": {},
     "output_type": "execute_result"
    }
   ],
   "source": [
    "sp500 = pd.read_html('https://en.wikipedia.org/wiki/List_of_S%26P_500_companies')\n",
    "sp500_list = np.array(sp500[0]['Symbol'])\n",
    "sp500_list[:1]"
   ]
  },
  {
   "cell_type": "code",
   "execution_count": 7,
   "metadata": {},
   "outputs": [
    {
     "name": "stdout",
     "output_type": "stream",
     "text": [
      "NOTE: Enter 'c' at the ipdb>  prompt to continue execution.\n"
     ]
    }
   ],
   "source": [
    "%%debug\n",
    "def get_intraday_prices(symbol):\n",
    "    ticker = symbol\n",
    "    iex_api_key = 'YOUR API KEY'\n",
    "    url = f'https://cloud.iexapis.com/stable/stock/{ticker}/intraday-prices?token={iex_api_key}'\n",
    "    df = requests.get(url).json()\n",
    "    date = df[1]['date']\n",
    "        \n",
    "    time = []\n",
    "    open = []\n",
    "    high = []\n",
    "    low = []\n",
    "    close = []\n",
    "    volume = []\n",
    "    number_of_trades = []\n",
    "    \n",
    "    for i in range(len(df)):\n",
    "        time.append(df[i]['label'])\n",
    "        open.append(df[i]['open'])\n",
    "        high.append(df[i]['high'])\n",
    "        low.append(df[i]['low'])\n",
    "        close.append(df[i]['close'])\n",
    "        volume.append(df[i]['volume'])\n",
    "        number_of_trades.append(df[i]['numberOfTrades'])\n",
    "        \n",
    "    time_df = pd.DataFrame(time).rename(columns = {0:'Time'})\n",
    "    open_df = pd.DataFrame(open).rename(columns = {0:'Open'})\n",
    "    high_df = pd.DataFrame(high).rename(columns = {0:'High'})\n",
    "    low_df = pd.DataFrame(low).rename(columns = {0:'Low'})\n",
    "    close_df = pd.DataFrame(close).rename(columns = {0:'Close'})\n",
    "    volume_df = pd.DataFrame(volume).rename(columns = {0:'Volume'})\n",
    "    number_of_trades_df = pd.DataFrame(number_of_trades).rename(columns = {0:'Number of Trades'})\n",
    "     \n",
    "    frames = [time_df, open_df, high_df, low_df, close_df, volume_df, number_of_trades_df]\n",
    "    df = pd.concat(frames, axis = 1, join = 'inner')\n",
    "    df = df.set_index('Time')\n",
    "    return df\n",
    "  \n",
    "df = pd.DataFrame(columns = sp500_list)\n",
    "for i in df.columns:\n",
    "    breakpoint()\n",
    "    try:\n",
    "        df[i] = get_intraday_prices(i)['Close']\n",
    "        print(f'{i} is successfully extracted')\n",
    "    except:\n",
    "        pass\n",
    "    \n",
    "df.to_csv('sp500.csv')\n",
    "sp500 = pd.read_csv('sp500.csv').set_index('Time')\n",
    "sp500.head()"
   ]
  }
 ],
 "metadata": {
  "interpreter": {
   "hash": "cf3fcc9f8d01bcaa101140aff795f45e333ed03c25cc4b0a2ebb599bde89667d"
  },
  "kernelspec": {
   "display_name": "Python 3.10.4 64-bit",
   "language": "python",
   "name": "python3"
  },
  "language_info": {
   "codemirror_mode": {
    "name": "ipython",
    "version": 3
   },
   "file_extension": ".py",
   "mimetype": "text/x-python",
   "name": "python",
   "nbconvert_exporter": "python",
   "pygments_lexer": "ipython3",
   "version": "3.10.4"
  },
  "orig_nbformat": 4
 },
 "nbformat": 4,
 "nbformat_minor": 2
}
