{
    "cells": [
        {
            "cell_type": "markdown",
            "source": [
                "# giovanni trombetta trader\r\n",
                "# TBD Da vedere\r\n",
                "[1 Tutorial](https://www.youtube.com/watch?v=65xqZjhIwAE)"
            ],
            "metadata": {}
        },
        {
            "cell_type": "code",
            "execution_count": null,
            "source": [],
            "outputs": [],
            "metadata": {}
        }
    ],
    "metadata": {
        "orig_nbformat": 4,
        "language_info": {
            "name": "python",
            "version": "3.7.8"
        },
        "kernelspec": {
            "name": "python3",
            "display_name": "Python 3.7.8 64-bit"
        },
        "interpreter": {
            "hash": "57baa5815c940fdaff4d14510622de9616cae602444507ba5d0b6727c008cbd6"
        }
    },
    "nbformat": 4,
    "nbformat_minor": 2
}