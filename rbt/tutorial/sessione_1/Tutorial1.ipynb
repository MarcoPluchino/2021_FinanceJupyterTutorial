{
    "cells": [
        {
            "cell_type": "code",
            "execution_count": 2,
            "metadata": {},
            "outputs": [
                {
                    "data": {
                        "text/html": [
                            "<div>\n",
                            "<style scoped>\n",
                            "    .dataframe tbody tr th:only-of-type {\n",
                            "        vertical-align: middle;\n",
                            "    }\n",
                            "\n",
                            "    .dataframe tbody tr th {\n",
                            "        vertical-align: top;\n",
                            "    }\n",
                            "\n",
                            "    .dataframe thead th {\n",
                            "        text-align: right;\n",
                            "    }\n",
                            "</style>\n",
                            "<table border=\"1\" class=\"dataframe\">\n",
                            "  <thead>\n",
                            "    <tr style=\"text-align: right;\">\n",
                            "      <th></th>\n",
                            "      <th>0</th>\n",
                            "      <th>1</th>\n",
                            "    </tr>\n",
                            "  </thead>\n",
                            "  <tbody>\n",
                            "    <tr>\n",
                            "      <th>0</th>\n",
                            "      <td>Market Cap</td>\n",
                            "      <td>819.903B</td>\n",
                            "    </tr>\n",
                            "    <tr>\n",
                            "      <th>1</th>\n",
                            "      <td>Circulating Supply</td>\n",
                            "      <td>19.00M</td>\n",
                            "    </tr>\n",
                            "    <tr>\n",
                            "      <th>2</th>\n",
                            "      <td>Max Supply</td>\n",
                            "      <td>NaN</td>\n",
                            "    </tr>\n",
                            "    <tr>\n",
                            "      <th>3</th>\n",
                            "      <td>Volume</td>\n",
                            "      <td>31660341248</td>\n",
                            "    </tr>\n",
                            "    <tr>\n",
                            "      <th>4</th>\n",
                            "      <td>Volume (24hr)</td>\n",
                            "      <td>31.66B</td>\n",
                            "    </tr>\n",
                            "    <tr>\n",
                            "      <th>5</th>\n",
                            "      <td>Volume (24hr) All Currencies</td>\n",
                            "      <td>31.66B</td>\n",
                            "    </tr>\n",
                            "  </tbody>\n",
                            "</table>\n",
                            "</div>"
                        ],
                        "text/plain": [
                            "                              0            1\n",
                            "0                    Market Cap     819.903B\n",
                            "1            Circulating Supply       19.00M\n",
                            "2                    Max Supply          NaN\n",
                            "3                        Volume  31660341248\n",
                            "4                 Volume (24hr)       31.66B\n",
                            "5  Volume (24hr) All Currencies       31.66B"
                        ]
                    },
                    "execution_count": 2,
                    "metadata": {},
                    "output_type": "execute_result"
                }
            ],
            "source": [
                "# https://www.youtube.com/watch?v=7wAQCwdvqqo&list=PLlbbWgBRF8EfO4WX13yEWlDUxkHsGPRdV&index=1&t=838s\n",
                "import yfinance as yf\n",
                "import imp\n",
                "symbol = yf.Ticker(\"BTC-EUR\") #symbol\n",
                "info = symbol.info #info\n",
                "a = imp.find_module(\"yfinance\")\n",
                "hist = symbol.history(period='max') #hist\n",
                "institutional_holders = symbol.institutional_holders \n",
                "institutional_holders"
            ]
        }
    ],
    "metadata": {
        "interpreter": {
            "hash": "57baa5815c940fdaff4d14510622de9616cae602444507ba5d0b6727c008cbd6"
        },
        "kernelspec": {
            "display_name": "Python 3.7.8 64-bit",
            "name": "python3"
        },
        "language_info": {
            "codemirror_mode": {
                "name": "ipython",
                "version": 3
            },
            "file_extension": ".py",
            "mimetype": "text/x-python",
            "name": "python",
            "nbconvert_exporter": "python",
            "pygments_lexer": "ipython3",
            "version": "3.10.4"
        },
        "orig_nbformat": 4
    },
    "nbformat": 4,
    "nbformat_minor": 2
}
