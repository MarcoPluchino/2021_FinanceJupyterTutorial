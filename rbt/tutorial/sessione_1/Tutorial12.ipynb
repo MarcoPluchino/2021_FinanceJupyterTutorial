{
 "cells": [
  {
   "cell_type": "markdown",
   "metadata": {},
   "source": [
    "# FOREX DATA\n",
    "[1 - Code](https://stackoverflow.com/questions/21483959/how-can-get-usdjpycurrency-rates-with-pandas-and-yahoo-finance)"
   ]
  },
  {
   "cell_type": "code",
   "execution_count": 1,
   "metadata": {},
   "outputs": [
    {
     "name": "stdout",
     "output_type": "stream",
     "text": [
      "This is the table with HLOC, Volume, Adj Close prices\n",
      "                High       Low      Open     Close  Volume  Adj Close\n",
      "Date                                                                 \n",
      "2021-02-26  1.218249  1.209175  1.216012  1.216042       0   1.216042\n",
      "2021-03-01  1.210156  1.202993  1.209090  1.208956       0   1.208956\n",
      "2021-03-02  1.208036  1.199400  1.204906  1.205110       0   1.205110\n",
      "This is the Adj Close prices only\n",
      "Date\n",
      "2021-02-26    1.216042\n",
      "2021-03-01    1.208956\n",
      "2021-03-02    1.205110\n",
      "Name: Adj Close, dtype: float64\n"
     ]
    }
   ],
   "source": [
    "# get fx rates\n",
    "# https://finance.yahoo.com/currencies\n",
    "# example EUR/USD = EURUSD%3DX?p=EURUSD%3DX\n",
    "import pandas as pd\n",
    "import pandas_datareader as dr\n",
    "    \n",
    "# change date range here\n",
    "start_date = '2021-02-26'\n",
    "end_date = '2021-03-01'\n",
    "    \n",
    "# retrieve market data of current ticker symbol\n",
    "print('This is the table with HLOC, Volume, Adj Close prices')\n",
    "eurusd = dr.data.DataReader('EURUSD%3DX', data_source='yahoo', start=start_date, end=end_date)\n",
    "print(eurusd)\n",
    "    \n",
    "# just get latest adjusted close for further use\n",
    "print('This is the Adj Close prices only')\n",
    "print(eurusd['Adj Close'])"
   ]
  }
 ],
 "metadata": {
  "interpreter": {
   "hash": "57baa5815c940fdaff4d14510622de9616cae602444507ba5d0b6727c008cbd6"
  },
  "kernelspec": {
   "display_name": "Python 3.7.8 64-bit",
   "name": "python3"
  },
  "language_info": {
   "codemirror_mode": {
    "name": "ipython",
    "version": 3
   },
   "file_extension": ".py",
   "mimetype": "text/x-python",
   "name": "python",
   "nbconvert_exporter": "python",
   "pygments_lexer": "ipython3",
   "version": "3.10.4"
  },
  "orig_nbformat": 4
 },
 "nbformat": 4,
 "nbformat_minor": 2
}
