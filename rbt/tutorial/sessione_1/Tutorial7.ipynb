{
    "cells": [
        {
            "cell_type": "markdown",
            "metadata": {},
            "source": [
                "# Pandas\n",
                "[1 Pandas Tutorial](https://blog.quantinsti.com/python-pandas-tutorial/)"
            ]
        },
        {
            "cell_type": "code",
            "execution_count": 1,
            "metadata": {},
            "outputs": [
                {
                    "name": "stdout",
                    "output_type": "stream",
                    "text": [
                        "0    1\n",
                        "1    2\n",
                        "2    3\n",
                        "3    4\n",
                        "4    5\n",
                        "5    6\n",
                        "6    7\n",
                        "dtype: int64\n"
                    ]
                }
            ],
            "source": [
                "import pandas as pd\n",
                "import pandas as pd\n",
                "s = pd.Series([1, 2, 3, 4, 5, 6, 7])\n",
                "print(s)"
            ]
        },
        {
            "cell_type": "code",
            "execution_count": 2,
            "metadata": {},
            "outputs": [
                {
                    "name": "stdout",
                    "output_type": "stream",
                    "text": [
                        "0    a\n",
                        "1    b\n",
                        "2    c\n",
                        "3    d\n",
                        "4    e\n",
                        "dtype: object\n"
                    ]
                }
            ],
            "source": [
                "s = pd.Series(['a', 'b', 'c', 'd', 'e'])\n",
                "print(s)"
            ]
        },
        {
            "cell_type": "code",
            "execution_count": 3,
            "metadata": {},
            "outputs": [
                {
                    "name": "stdout",
                    "output_type": "stream",
                    "text": [
                        "0   -0.220740\n",
                        "1   -0.719963\n",
                        "2    0.680081\n",
                        "3   -1.670544\n",
                        "4    1.726541\n",
                        "dtype: float64\n"
                    ]
                }
            ],
            "source": [
                "import numpy as np\n",
                "s = pd.Series(np.random.randn(5))\n",
                "print(s)"
            ]
        },
        {
            "cell_type": "code",
            "execution_count": 4,
            "metadata": {},
            "outputs": [
                {
                    "data": {
                        "text/plain": [
                            "RangeIndex(start=0, stop=5, step=1)"
                        ]
                    },
                    "execution_count": 4,
                    "metadata": {},
                    "output_type": "execute_result"
                }
            ],
            "source": [
                "s.index"
            ]
        },
        {
            "cell_type": "code",
            "execution_count": 5,
            "metadata": {},
            "outputs": [
                {
                    "data": {
                        "text/plain": [
                            "a   -0.445204\n",
                            "b   -1.941279\n",
                            "c   -0.299839\n",
                            "d    0.447498\n",
                            "e    0.164392\n",
                            "dtype: float64"
                        ]
                    },
                    "execution_count": 5,
                    "metadata": {},
                    "output_type": "execute_result"
                }
            ],
            "source": [
                "s = pd.Series(np.random.randn(5), index=['a', 'b', 'c', 'd', 'e'])\n",
                "s"
            ]
        },
        {
            "cell_type": "code",
            "execution_count": 6,
            "metadata": {},
            "outputs": [
                {
                    "name": "stdout",
                    "output_type": "stream",
                    "text": [
                        "a    1\n",
                        "b    2\n",
                        "c    3\n",
                        "d    4\n",
                        "e    5\n",
                        "dtype: int64\n"
                    ]
                }
            ],
            "source": [
                "import pandas as pd\n",
                "dictionary = {'a' : 1, 'b' : 2, 'c' : 3, 'd': 4, 'e': 5}\n",
                "s = pd.Series(dictionary)\n",
                "print(s)"
            ]
        },
        {
            "cell_type": "code",
            "execution_count": 7,
            "metadata": {},
            "outputs": [
                {
                    "name": "stdout",
                    "output_type": "stream",
                    "text": [
                        "a    1\n",
                        "b    2\n",
                        "c    3\n",
                        "d    4\n",
                        "e    5\n",
                        "dtype: int64\n",
                        "0    1\n",
                        "1    2\n",
                        "2    3\n",
                        "3    4\n",
                        "4    5\n",
                        "dtype: int64\n"
                    ]
                }
            ],
            "source": [
                "dictionary = {'a' : 1, 'b' : 2, 'c' : 3, 'd': 4, 'e': 5}\n",
                "s1 = pd.Series(dictionary)\n",
                "\n",
                "array = [1, 2, 3, 4, 5]\n",
                "s2 = pd.Series(array)\n",
                "print(s1)\n",
                "print(s2)"
            ]
        },
        {
            "cell_type": "code",
            "execution_count": 9,
            "metadata": {},
            "outputs": [
                {
                    "data": {
                        "text/html": [
                            "<div>\n",
                            "<style scoped>\n",
                            "    .dataframe tbody tr th:only-of-type {\n",
                            "        vertical-align: middle;\n",
                            "    }\n",
                            "\n",
                            "    .dataframe tbody tr th {\n",
                            "        vertical-align: top;\n",
                            "    }\n",
                            "\n",
                            "    .dataframe thead th {\n",
                            "        text-align: right;\n",
                            "    }\n",
                            "</style>\n",
                            "<table border=\"1\" class=\"dataframe\">\n",
                            "  <thead>\n",
                            "    <tr style=\"text-align: right;\">\n",
                            "      <th></th>\n",
                            "      <th>A</th>\n",
                            "      <th>B</th>\n",
                            "      <th>C</th>\n",
                            "    </tr>\n",
                            "  </thead>\n",
                            "  <tbody>\n",
                            "    <tr>\n",
                            "      <th>0</th>\n",
                            "      <td>0.320933</td>\n",
                            "      <td>-0.735101</td>\n",
                            "      <td>0.181812</td>\n",
                            "    </tr>\n",
                            "    <tr>\n",
                            "      <th>1</th>\n",
                            "      <td>0.229003</td>\n",
                            "      <td>-0.663658</td>\n",
                            "      <td>0.780000</td>\n",
                            "    </tr>\n",
                            "    <tr>\n",
                            "      <th>2</th>\n",
                            "      <td>0.291508</td>\n",
                            "      <td>2.061989</td>\n",
                            "      <td>0.806135</td>\n",
                            "    </tr>\n",
                            "    <tr>\n",
                            "      <th>3</th>\n",
                            "      <td>-1.580353</td>\n",
                            "      <td>0.386422</td>\n",
                            "      <td>0.769097</td>\n",
                            "    </tr>\n",
                            "    <tr>\n",
                            "      <th>4</th>\n",
                            "      <td>0.707954</td>\n",
                            "      <td>-0.768207</td>\n",
                            "      <td>1.186491</td>\n",
                            "    </tr>\n",
                            "    <tr>\n",
                            "      <th>5</th>\n",
                            "      <td>-0.991040</td>\n",
                            "      <td>-1.161208</td>\n",
                            "      <td>0.066094</td>\n",
                            "    </tr>\n",
                            "    <tr>\n",
                            "      <th>6</th>\n",
                            "      <td>-0.205686</td>\n",
                            "      <td>0.022634</td>\n",
                            "      <td>0.008687</td>\n",
                            "    </tr>\n",
                            "    <tr>\n",
                            "      <th>7</th>\n",
                            "      <td>1.000490</td>\n",
                            "      <td>-0.618774</td>\n",
                            "      <td>1.162034</td>\n",
                            "    </tr>\n",
                            "    <tr>\n",
                            "      <th>8</th>\n",
                            "      <td>0.147152</td>\n",
                            "      <td>1.547310</td>\n",
                            "      <td>-0.075777</td>\n",
                            "    </tr>\n",
                            "    <tr>\n",
                            "      <th>9</th>\n",
                            "      <td>0.294016</td>\n",
                            "      <td>1.905852</td>\n",
                            "      <td>-0.314914</td>\n",
                            "    </tr>\n",
                            "  </tbody>\n",
                            "</table>\n",
                            "</div>"
                        ],
                        "text/plain": [
                            "          A         B         C\n",
                            "0  0.320933 -0.735101  0.181812\n",
                            "1  0.229003 -0.663658  0.780000\n",
                            "2  0.291508  2.061989  0.806135\n",
                            "3 -1.580353  0.386422  0.769097\n",
                            "4  0.707954 -0.768207  1.186491\n",
                            "5 -0.991040 -1.161208  0.066094\n",
                            "6 -0.205686  0.022634  0.008687\n",
                            "7  1.000490 -0.618774  1.162034\n",
                            "8  0.147152  1.547310 -0.075777\n",
                            "9  0.294016  1.905852 -0.314914"
                        ]
                    },
                    "execution_count": 9,
                    "metadata": {},
                    "output_type": "execute_result"
                }
            ],
            "source": [
                "import pandas as pd\n",
                "df=pd.DataFrame({'A' : np.random.randn(10), 'B' : np.random.randn(10), 'C' : np.random.randn(10)})\n",
                "df\n"
            ]
        },
        {
            "cell_type": "code",
            "execution_count": 19,
            "metadata": {},
            "outputs": [
                {
                    "data": {
                        "text/plain": [
                            "array([-1.66839672, -2.1665175 ,  0.01919835])"
                        ]
                    },
                    "execution_count": 19,
                    "metadata": {},
                    "output_type": "execute_result"
                }
            ],
            "source": [
                "df.values"
            ]
        },
        {
            "cell_type": "code",
            "execution_count": 10,
            "metadata": {},
            "outputs": [
                {
                    "data": {
                        "text/html": [
                            "<div>\n",
                            "<style scoped>\n",
                            "    .dataframe tbody tr th:only-of-type {\n",
                            "        vertical-align: middle;\n",
                            "    }\n",
                            "\n",
                            "    .dataframe tbody tr th {\n",
                            "        vertical-align: top;\n",
                            "    }\n",
                            "\n",
                            "    .dataframe thead th {\n",
                            "        text-align: right;\n",
                            "    }\n",
                            "</style>\n",
                            "<table border=\"1\" class=\"dataframe\">\n",
                            "  <thead>\n",
                            "    <tr style=\"text-align: right;\">\n",
                            "      <th></th>\n",
                            "      <th>A</th>\n",
                            "      <th>B</th>\n",
                            "      <th>C</th>\n",
                            "    </tr>\n",
                            "  </thead>\n",
                            "  <tbody>\n",
                            "    <tr>\n",
                            "      <th>0</th>\n",
                            "      <td>0.320933</td>\n",
                            "      <td>-0.735101</td>\n",
                            "      <td>0.181812</td>\n",
                            "    </tr>\n",
                            "    <tr>\n",
                            "      <th>1</th>\n",
                            "      <td>0.229003</td>\n",
                            "      <td>-0.663658</td>\n",
                            "      <td>0.780000</td>\n",
                            "    </tr>\n",
                            "    <tr>\n",
                            "      <th>2</th>\n",
                            "      <td>0.291508</td>\n",
                            "      <td>2.061989</td>\n",
                            "      <td>0.806135</td>\n",
                            "    </tr>\n",
                            "    <tr>\n",
                            "      <th>3</th>\n",
                            "      <td>-1.580353</td>\n",
                            "      <td>0.386422</td>\n",
                            "      <td>0.769097</td>\n",
                            "    </tr>\n",
                            "    <tr>\n",
                            "      <th>4</th>\n",
                            "      <td>0.707954</td>\n",
                            "      <td>-0.768207</td>\n",
                            "      <td>1.186491</td>\n",
                            "    </tr>\n",
                            "    <tr>\n",
                            "      <th>5</th>\n",
                            "      <td>-0.991040</td>\n",
                            "      <td>-1.161208</td>\n",
                            "      <td>0.066094</td>\n",
                            "    </tr>\n",
                            "    <tr>\n",
                            "      <th>6</th>\n",
                            "      <td>-0.205686</td>\n",
                            "      <td>0.022634</td>\n",
                            "      <td>0.008687</td>\n",
                            "    </tr>\n",
                            "    <tr>\n",
                            "      <th>7</th>\n",
                            "      <td>1.000490</td>\n",
                            "      <td>-0.618774</td>\n",
                            "      <td>1.162034</td>\n",
                            "    </tr>\n",
                            "    <tr>\n",
                            "      <th>8</th>\n",
                            "      <td>0.147152</td>\n",
                            "      <td>1.547310</td>\n",
                            "      <td>-0.075777</td>\n",
                            "    </tr>\n",
                            "    <tr>\n",
                            "      <th>9</th>\n",
                            "      <td>0.294016</td>\n",
                            "      <td>1.905852</td>\n",
                            "      <td>-0.314914</td>\n",
                            "    </tr>\n",
                            "  </tbody>\n",
                            "</table>\n",
                            "</div>"
                        ],
                        "text/plain": [
                            "          A         B         C\n",
                            "0  0.320933 -0.735101  0.181812\n",
                            "1  0.229003 -0.663658  0.780000\n",
                            "2  0.291508  2.061989  0.806135\n",
                            "3 -1.580353  0.386422  0.769097\n",
                            "4  0.707954 -0.768207  1.186491\n",
                            "5 -0.991040 -1.161208  0.066094\n",
                            "6 -0.205686  0.022634  0.008687\n",
                            "7  1.000490 -0.618774  1.162034\n",
                            "8  0.147152  1.547310 -0.075777\n",
                            "9  0.294016  1.905852 -0.314914"
                        ]
                    },
                    "execution_count": 10,
                    "metadata": {},
                    "output_type": "execute_result"
                }
            ],
            "source": [
                "df"
            ]
        }
    ],
    "metadata": {
        "interpreter": {
            "hash": "57baa5815c940fdaff4d14510622de9616cae602444507ba5d0b6727c008cbd6"
        },
        "kernelspec": {
            "display_name": "Python 3.7.8 64-bit",
            "name": "python3"
        },
        "language_info": {
            "codemirror_mode": {
                "name": "ipython",
                "version": 3
            },
            "file_extension": ".py",
            "mimetype": "text/x-python",
            "name": "python",
            "nbconvert_exporter": "python",
            "pygments_lexer": "ipython3",
            "version": "3.10.4"
        },
        "orig_nbformat": 4
    },
    "nbformat": 4,
    "nbformat_minor": 2
}
