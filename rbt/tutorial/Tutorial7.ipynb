{
    "cells": [
        {
            "cell_type": "markdown",
            "source": [
                "# Pandas\r\n",
                "[1 Pandas Tutorial](https://blog.quantinsti.com/python-pandas-tutorial/)"
            ],
            "metadata": {}
        },
        {
            "cell_type": "code",
            "execution_count": 5,
            "source": [
                "import pandas as pd\r\n",
                "import pandas as pd\r\n",
                "s = pd.Series([1, 2, 3, 4, 5, 6, 7])\r\n",
                "print(s)"
            ],
            "outputs": [
                {
                    "output_type": "stream",
                    "name": "stdout",
                    "text": [
                        "0    1\n",
                        "1    2\n",
                        "2    3\n",
                        "3    4\n",
                        "4    5\n",
                        "5    6\n",
                        "6    7\n",
                        "dtype: int64\n"
                    ]
                }
            ],
            "metadata": {}
        },
        {
            "cell_type": "code",
            "execution_count": 6,
            "source": [
                "s = pd.Series(['a', 'b', 'c', 'd', 'e'])\r\n",
                "print(s)"
            ],
            "outputs": [
                {
                    "output_type": "stream",
                    "name": "stdout",
                    "text": [
                        "0    a\n",
                        "1    b\n",
                        "2    c\n",
                        "3    d\n",
                        "4    e\n",
                        "dtype: object\n"
                    ]
                }
            ],
            "metadata": {}
        },
        {
            "cell_type": "code",
            "execution_count": 7,
            "source": [
                "import numpy as np\r\n",
                "s = pd.Series(np.random.randn(5))\r\n",
                "print(s)"
            ],
            "outputs": [
                {
                    "output_type": "stream",
                    "name": "stdout",
                    "text": [
                        "0    1.531635\n",
                        "1   -0.533362\n",
                        "2    0.160488\n",
                        "3   -0.403567\n",
                        "4   -2.377786\n",
                        "dtype: float64\n"
                    ]
                }
            ],
            "metadata": {}
        },
        {
            "cell_type": "code",
            "execution_count": 8,
            "source": [
                "s.index"
            ],
            "outputs": [
                {
                    "output_type": "execute_result",
                    "data": {
                        "text/plain": [
                            "RangeIndex(start=0, stop=5, step=1)"
                        ]
                    },
                    "metadata": {},
                    "execution_count": 8
                }
            ],
            "metadata": {}
        },
        {
            "cell_type": "code",
            "execution_count": 10,
            "source": [
                "s = pd.Series(np.random.randn(5), index=['a', 'b', 'c', 'd', 'e'])\r\n",
                "s"
            ],
            "outputs": [
                {
                    "output_type": "execute_result",
                    "data": {
                        "text/plain": [
                            "a    0.336727\n",
                            "b    1.201569\n",
                            "c    0.684657\n",
                            "d   -1.414908\n",
                            "e   -1.215742\n",
                            "dtype: float64"
                        ]
                    },
                    "metadata": {},
                    "execution_count": 10
                }
            ],
            "metadata": {}
        },
        {
            "cell_type": "code",
            "execution_count": 11,
            "source": [
                "import pandas as pd\r\n",
                "dictionary = {'a' : 1, 'b' : 2, 'c' : 3, 'd': 4, 'e': 5}\r\n",
                "s = pd.Series(dictionary)\r\n",
                "print(s)"
            ],
            "outputs": [
                {
                    "output_type": "stream",
                    "name": "stdout",
                    "text": [
                        "a    1\n",
                        "b    2\n",
                        "c    3\n",
                        "d    4\n",
                        "e    5\n",
                        "dtype: int64\n"
                    ]
                }
            ],
            "metadata": {}
        },
        {
            "cell_type": "code",
            "execution_count": 13,
            "source": [
                "dictionary = {'a' : 1, 'b' : 2, 'c' : 3, 'd': 4, 'e': 5}\r\n",
                "s1 = pd.Series(dictionary)\r\n",
                "\r\n",
                "array = [1, 2, 3, 4, 5]\r\n",
                "s2 = pd.Series(array)\r\n",
                "print(s1)\r\n",
                "print(s2)"
            ],
            "outputs": [
                {
                    "output_type": "stream",
                    "name": "stdout",
                    "text": [
                        "a    1\n",
                        "b    2\n",
                        "c    3\n",
                        "d    4\n",
                        "e    5\n",
                        "dtype: int64\n",
                        "0    1\n",
                        "1    2\n",
                        "2    3\n",
                        "3    4\n",
                        "4    5\n",
                        "dtype: int64\n"
                    ]
                }
            ],
            "metadata": {}
        },
        {
            "cell_type": "code",
            "execution_count": 16,
            "source": [
                "import pandas as pd\r\n",
                "df=pd.DataFrame({'A' : np.random.randn(10), 'B' : np.random.randn(10), 'C' : np.random.randn(10)})\r\n",
                "\r\n"
            ],
            "outputs": [
                {
                    "output_type": "execute_result",
                    "data": {
                        "text/plain": [
                            "array([[-1.66839672, -2.1665175 ,  0.01919835],\n",
                            "       [ 0.90932599,  0.36405191, -0.24749009],\n",
                            "       [-0.9567622 ,  1.22706395,  0.11278745],\n",
                            "       [-1.15256062, -0.03340348,  0.88030036],\n",
                            "       [ 1.14610419,  0.13971313,  0.82775835],\n",
                            "       [-0.51229404, -1.12844833,  0.3851574 ],\n",
                            "       [ 0.87293174,  1.18945769,  1.61454463],\n",
                            "       [-1.17953295, -1.53460623,  0.64665275],\n",
                            "       [-1.24457579,  0.64424731,  0.53211444],\n",
                            "       [ 0.90704984, -0.37645361, -0.78788292]])"
                        ]
                    },
                    "metadata": {},
                    "execution_count": 16
                }
            ],
            "metadata": {}
        },
        {
            "cell_type": "code",
            "execution_count": 19,
            "source": [
                "df.values"
            ],
            "outputs": [
                {
                    "output_type": "execute_result",
                    "data": {
                        "text/plain": [
                            "array([-1.66839672, -2.1665175 ,  0.01919835])"
                        ]
                    },
                    "metadata": {},
                    "execution_count": 19
                }
            ],
            "metadata": {}
        },
        {
            "cell_type": "code",
            "execution_count": 20,
            "source": [
                "df"
            ],
            "outputs": [
                {
                    "output_type": "execute_result",
                    "data": {
                        "text/plain": [
                            "          A         B         C\n",
                            "0 -1.668397 -2.166518  0.019198\n",
                            "1  0.909326  0.364052 -0.247490\n",
                            "2 -0.956762  1.227064  0.112787\n",
                            "3 -1.152561 -0.033403  0.880300\n",
                            "4  1.146104  0.139713  0.827758\n",
                            "5 -0.512294 -1.128448  0.385157\n",
                            "6  0.872932  1.189458  1.614545\n",
                            "7 -1.179533 -1.534606  0.646653\n",
                            "8 -1.244576  0.644247  0.532114\n",
                            "9  0.907050 -0.376454 -0.787883"
                        ],
                        "text/html": [
                            "<div>\n",
                            "<style scoped>\n",
                            "    .dataframe tbody tr th:only-of-type {\n",
                            "        vertical-align: middle;\n",
                            "    }\n",
                            "\n",
                            "    .dataframe tbody tr th {\n",
                            "        vertical-align: top;\n",
                            "    }\n",
                            "\n",
                            "    .dataframe thead th {\n",
                            "        text-align: right;\n",
                            "    }\n",
                            "</style>\n",
                            "<table border=\"1\" class=\"dataframe\">\n",
                            "  <thead>\n",
                            "    <tr style=\"text-align: right;\">\n",
                            "      <th></th>\n",
                            "      <th>A</th>\n",
                            "      <th>B</th>\n",
                            "      <th>C</th>\n",
                            "    </tr>\n",
                            "  </thead>\n",
                            "  <tbody>\n",
                            "    <tr>\n",
                            "      <th>0</th>\n",
                            "      <td>-1.668397</td>\n",
                            "      <td>-2.166518</td>\n",
                            "      <td>0.019198</td>\n",
                            "    </tr>\n",
                            "    <tr>\n",
                            "      <th>1</th>\n",
                            "      <td>0.909326</td>\n",
                            "      <td>0.364052</td>\n",
                            "      <td>-0.247490</td>\n",
                            "    </tr>\n",
                            "    <tr>\n",
                            "      <th>2</th>\n",
                            "      <td>-0.956762</td>\n",
                            "      <td>1.227064</td>\n",
                            "      <td>0.112787</td>\n",
                            "    </tr>\n",
                            "    <tr>\n",
                            "      <th>3</th>\n",
                            "      <td>-1.152561</td>\n",
                            "      <td>-0.033403</td>\n",
                            "      <td>0.880300</td>\n",
                            "    </tr>\n",
                            "    <tr>\n",
                            "      <th>4</th>\n",
                            "      <td>1.146104</td>\n",
                            "      <td>0.139713</td>\n",
                            "      <td>0.827758</td>\n",
                            "    </tr>\n",
                            "    <tr>\n",
                            "      <th>5</th>\n",
                            "      <td>-0.512294</td>\n",
                            "      <td>-1.128448</td>\n",
                            "      <td>0.385157</td>\n",
                            "    </tr>\n",
                            "    <tr>\n",
                            "      <th>6</th>\n",
                            "      <td>0.872932</td>\n",
                            "      <td>1.189458</td>\n",
                            "      <td>1.614545</td>\n",
                            "    </tr>\n",
                            "    <tr>\n",
                            "      <th>7</th>\n",
                            "      <td>-1.179533</td>\n",
                            "      <td>-1.534606</td>\n",
                            "      <td>0.646653</td>\n",
                            "    </tr>\n",
                            "    <tr>\n",
                            "      <th>8</th>\n",
                            "      <td>-1.244576</td>\n",
                            "      <td>0.644247</td>\n",
                            "      <td>0.532114</td>\n",
                            "    </tr>\n",
                            "    <tr>\n",
                            "      <th>9</th>\n",
                            "      <td>0.907050</td>\n",
                            "      <td>-0.376454</td>\n",
                            "      <td>-0.787883</td>\n",
                            "    </tr>\n",
                            "  </tbody>\n",
                            "</table>\n",
                            "</div>"
                        ]
                    },
                    "metadata": {},
                    "execution_count": 20
                }
            ],
            "metadata": {}
        }
    ],
    "metadata": {
        "orig_nbformat": 4,
        "language_info": {
            "name": "python",
            "version": "3.7.8",
            "mimetype": "text/x-python",
            "codemirror_mode": {
                "name": "ipython",
                "version": 3
            },
            "pygments_lexer": "ipython3",
            "nbconvert_exporter": "python",
            "file_extension": ".py"
        },
        "kernelspec": {
            "name": "python3",
            "display_name": "Python 3.7.8 64-bit"
        },
        "interpreter": {
            "hash": "57baa5815c940fdaff4d14510622de9616cae602444507ba5d0b6727c008cbd6"
        }
    },
    "nbformat": 4,
    "nbformat_minor": 2
}